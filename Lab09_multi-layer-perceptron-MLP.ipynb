{
  "cells": [
    {
      "cell_type": "markdown",
      "metadata": {
        "colab_type": "text",
        "id": "view-in-github"
      },
      "source": [
        "<a href=\"https://colab.research.google.com/github/SzymonNowakowski/Machine-Learning-2024/blob/master/Lab09_multi-layer-perceptron-MLP.ipynb\" target=\"_parent\"><img src=\"https://colab.research.google.com/assets/colab-badge.svg\" alt=\"Open In Colab\"/></a>"
      ]
    },
    {
      "cell_type": "markdown",
      "id": "xl_-W_aXqjJ2",
      "metadata": {
        "id": "xl_-W_aXqjJ2"
      },
      "source": [
        "# Lab 9 - Multi Layer Perceptron, MLP\n",
        "\n",
        "### Author: Szymon Nowakowski"
      ]
    },
    {
      "cell_type": "markdown",
      "id": "Y88jX_qD1WOy",
      "metadata": {
        "id": "Y88jX_qD1WOy"
      },
      "source": [
        "# Presentation on Tensors and Linear Layers\n",
        "--------------------\n",
        "\n",
        "We shall start off by going through a [short presentation on tensors and linear layers](https://github.com/SzymonNowakowski/Machine-Learning-2024/blob/master/tensors_and_linear_layers.pdf). It is best to first download it and then go through it in a slide-show layout."
      ]
    },
    {
      "cell_type": "markdown",
      "id": "nDor-raLgKhg",
      "metadata": {
        "id": "nDor-raLgKhg"
      },
      "source": [
        "# Broadcasting\n",
        "-------------------------------\n",
        "\n",
        "Broadcasting is a powerful feature in PyTorch that allows operations on tensors of different shapes by automatically expanding their dimensions to match each other where possible. This mechanism is essential for performing element-wise operations without needing to manually reshape or replicate data.\n",
        "\n",
        "In broadcasting, PyTorch compares the shapes of the tensors element-wise from the right. If the dimensions are equal or one of them is 1, the operation can proceed. The smaller tensor is virtually expanded (without copying data) to match the larger tensor's shape.\n",
        "\n",
        "\n"
      ]
    },
    {
      "cell_type": "markdown",
      "id": "-U867Jmhgd1x",
      "metadata": {
        "id": "-U867Jmhgd1x"
      },
      "source": [
        "\n",
        "## Example in PyTorch\n"
      ]
    },
    {
      "cell_type": "code",
      "execution_count": null,
      "id": "AcdhRfvpgfiV",
      "metadata": {
        "colab": {
          "base_uri": "https://localhost:8080/"
        },
        "id": "AcdhRfvpgfiV",
        "outputId": "cab128cf-e580-4456-bad6-265aa513768a"
      },
      "outputs": [
        {
          "name": "stdout",
          "output_type": "stream",
          "text": [
            "tensor([[10., 20., 30.],\n",
            "        [20., 40., 60.],\n",
            "        [30., 60., 90.]])\n"
          ]
        }
      ],
      "source": [
        "import torch\n",
        "\n",
        "A = torch.tensor([[1.],\n",
        "                  [2.],\n",
        "                  [3.]])  # Shape: (3, 1)\n",
        "B = torch.tensor([10., 20., 30.])     # Shape: (3) - treated as (1, 3)\n",
        "\n",
        "C = A * B  # Shape: (3, 3) via broadcasting\n",
        "print(C)\n"
      ]
    },
    {
      "cell_type": "markdown",
      "id": "P5St8tIygXbn",
      "metadata": {
        "id": "P5St8tIygXbn"
      },
      "source": [
        "## Note on Numpy\n",
        "The same broadcasting mechanism exists in NumPy, as PyTorch's behavior was designed to be compatible with it:\n",
        "\n",
        "\n"
      ]
    },
    {
      "cell_type": "code",
      "execution_count": 5,
      "id": "U8Vfd3LWgZYf",
      "metadata": {
        "colab": {
          "base_uri": "https://localhost:8080/"
        },
        "id": "U8Vfd3LWgZYf",
        "outputId": "bfb725a3-66f8-400a-ad4a-953c8755cbef"
      },
      "outputs": [
        {
          "name": "stdout",
          "output_type": "stream",
          "text": [
            "[[10. 20. 30.]\n",
            " [20. 40. 60.]\n",
            " [30. 60. 90.]]\n"
          ]
        }
      ],
      "source": [
        "import numpy as np\n",
        "\n",
        "A = np.array([[1.],\n",
        "              [2.],\n",
        "              [3.]])  # Shape: (3, 1)\n",
        "B = np.array([10., 20., 30.])     # Shape: (3)\n",
        "\n",
        "C = A * B  # Also produces shape (3, 3)\n",
        "print(C)"
      ]
    },
    {
      "cell_type": "markdown",
      "id": "7EsJu1ctgtig",
      "metadata": {
        "id": "7EsJu1ctgtig"
      },
      "source": [
        "## Note on Previous Class Code\n",
        "\n",
        "We also encountered broadcasting in our previous class session:\n",
        "\n"
      ]
    },
    {
      "cell_type": "code",
      "execution_count": null,
      "id": "XIKF--QAhI1n",
      "metadata": {
        "colab": {
          "base_uri": "https://localhost:8080/"
        },
        "id": "XIKF--QAhI1n",
        "outputId": "e83a1bdf-ba13-4323-8c65-f987a1420fc3"
      },
      "outputs": [
        {
          "name": "stdout",
          "output_type": "stream",
          "text": [
            "torch.Size([100, 1, 2])\n",
            "torch.Size([1, 100, 2])\n",
            "torch.Size([100, 100])\n"
          ]
        }
      ],
      "source": [
        "N = 100\n",
        "focus1 = torch.tensor([-2.0, 0.0])             # First focus,                        sized (2)\n",
        "points = torch.rand((N, 2)) * 10 - 5           # Uniformly distributed in [-5, 5]    sized (N, 2)\n",
        "\n",
        "############### when we computed distances to focal points ##############################\n",
        "dist1 = torch.norm(points - focus1, dim=1)     # the focus 1 gets expanded to (1, 2) then broadcasted to (N, 2)\n",
        "                                               # to match the points tensor\n",
        "\n",
        "                                               # effectively what happens is that\n",
        "                                               # the focus point gets substracted from every other point\n",
        "\n",
        "                                               # also: note how natural this notation feels here\n",
        "\n",
        "############### when we computed pairwise point-to-point distances #####################\n",
        "# Compute all pairwise distances in parallel\n",
        "print(points.unsqueeze(1).size())                   # sized: (N, 1, 2)\n",
        "print(points.unsqueeze(0).size())                   # sized: (1, N, 2)\n",
        "\n",
        "diffs = points.unsqueeze(1) - points.unsqueeze(0)   # sized: (N, N, 2) because of broadcasting\n",
        "distances = torch.norm(diffs, dim=-1)               # sized: (N, N)\n",
        "\n",
        "print(distances.size())                             # N x N\n"
      ]
    },
    {
      "cell_type": "markdown",
      "id": "jTVyxO142fqS",
      "metadata": {
        "id": "jTVyxO142fqS"
      },
      "source": [
        "# Multi Layer Perceptron (MLP) Diagram\n",
        "------------------\n",
        "\n",
        "![network diagram](https://raw.githubusercontent.com/SzymonNowakowski/Machine-Learning-2024/refs/heads/master/MLP_diagram.jpg)"
      ]
    },
    {
      "cell_type": "markdown",
      "id": "olNkmFP7XR7I",
      "metadata": {
        "id": "olNkmFP7XR7I"
      },
      "source": [
        "# Task\n",
        "-------------------\n",
        "\n",
        "A nonlinear component in-between the linear layers is essential. Why?"
      ]
    },
    {
      "cell_type": "markdown",
      "id": "3_fgJXWb5-1C",
      "metadata": {
        "id": "3_fgJXWb5-1C"
      },
      "source": [
        "# A Non-Linearity\n",
        "---------------------\n",
        "\n",
        "$$\n",
        "l_{i+1} = f(W \\cdot l_i),\n",
        "$$\n",
        "with $f$ being a sigmoid $f(\\cdot)=\\sigma(\\cdot)$, hiperbolic tangent $f(\\cdot)=\\tanh(\\cdot)$ or a Rectified Linear Unit (ReLU) $f(\\cdot)=[\\cdot]_+$ (taking the positive part).\n",
        "\n",
        "The **sigmoid function** is defined as:\n",
        "\n",
        "$$\n",
        "\\sigma(x) = \\frac{1}{1 + e^{-x}}\n",
        "$$\n",
        "\n",
        "It maps any input $x$ to the range $(0,1)$, making it useful for probabilistic interpretations and smooth gradient updates. However, it can suffer from vanishing gradients for large positive or negative inputs.\n",
        "\n",
        "The **hyperbolic tangent (tanh) function** is defined as:\n",
        "\n",
        "$$\n",
        "\\tanh(x) = \\frac{e^x - e^{-x}}{e^x + e^{-x}}\n",
        "$$\n",
        "\n",
        "It maps any input $x$ to the range $(-1,1)$, making it **zero-centered**, which can help with optimization compared to the sigmoid function.\n",
        "\n",
        "Alternatively, **tanh** can be expressed as a **scaled sigmoid**:\n",
        "\n",
        "$$\n",
        "\\tanh(x) = 2\\sigma(2x) - 1\n",
        "$$\n",
        "\n",
        "This shows that **tanh** is just a stretched and shifted version of **sigmoid**, allowing for stronger gradients in the middle range and reducing saturation effects compared to sigmoid.\n",
        "\n",
        "\n",
        "As we said, a non-linear component is essential:\n",
        "1. without it, a compostion of linear components would be just a linear component, so a multilayer network would be equivalent to a single layered network.\n",
        "2. it is a nonlinear component that enables a neural network to express nonlinear functions, too.\n",
        "\n"
      ]
    },
    {
      "cell_type": "markdown",
      "id": "4fZB1Y2w9qYi",
      "metadata": {
        "id": "4fZB1Y2w9qYi"
      },
      "source": [
        "\n",
        "# MINIST dataset\n",
        "----------------------\n",
        "\n",
        "In this workshop, we will construct an MLP network designed to a specific task of classification of MNIST dataset: a set of handwritten digits from *zero* to *nine*. MNIST stands for Modified National Institute of Standards and Technology database.\n",
        "\n",
        "**You can read more about this dataset [here](https://colah.github.io/posts/2014-10-Visualizing-MNIST/#MNIST).**\n"
      ]
    },
    {
      "cell_type": "markdown",
      "id": "wqJVU0gp9rws",
      "metadata": {
        "id": "wqJVU0gp9rws"
      },
      "source": [
        "\n",
        "\n",
        "# Multi Layer Perceptron Notation\n",
        "---------------------------------\n",
        "\n",
        "In this workshop we will be classifying 28 by 28 images into 10 classes. Thus, a four layer perceptron (our classificator) we will work further with can be defined as\n",
        "$\\hat f:\\mathbb{R}^{28\\cdot 28} \\rightarrow \\mathbb{R}^{10}$ defined as\n",
        "\n",
        "$$\\hat f \\left(x; W_1, W_2, W_3, W_4, b_1, b_2, b_3, b_4 \\right) =  W_4 \\left[ W_3 \\left[ W_2 \\left[ W_1 x  + b_1 \\right]_+  + b_2 \\right]_+  + b_3 \\right]_+ + b_4,$$\n",
        "\n",
        "where matrices $W_1, \\ldots, W_4$ are tensors of order two (matrices) with matching dimensions and bias terms $b_1, \\ldots, b_4$ are tensors of order one (vectors) of matching dimensions, and we are using ReLU activation.\n",
        "\n",
        "Note, that there is no nonlinear activation after the last layer in our neural network. **There is an implicit softmax applied while cross entropy loss is calculated by `torch.nn.functional`.**\n"
      ]
    },
    {
      "cell_type": "markdown",
      "id": "s6RwV0RN_Kc9",
      "metadata": {
        "id": "s6RwV0RN_Kc9"
      },
      "source": [
        "# Reading MNIST Dataset to Play with It\n",
        "--------------------"
      ]
    },
    {
      "cell_type": "code",
      "execution_count": 1,
      "id": "vjAlmExA_Twh",
      "metadata": {
        "colab": {
          "base_uri": "https://localhost:8080/"
        },
        "id": "vjAlmExA_Twh",
        "outputId": "339e2264-cd00-4096-9dae-fda62cd228aa"
      },
      "outputs": [
        {
          "name": "stdout",
          "output_type": "stream",
          "text": [
            "Downloading http://yann.lecun.com/exdb/mnist/train-images-idx3-ubyte.gz\n",
            "Failed to download (trying next):\n",
            "HTTP Error 404: Not Found\n",
            "\n",
            "Downloading https://ossci-datasets.s3.amazonaws.com/mnist/train-images-idx3-ubyte.gz\n",
            "Downloading https://ossci-datasets.s3.amazonaws.com/mnist/train-images-idx3-ubyte.gz to ./data\\MNIST\\raw\\train-images-idx3-ubyte.gz\n"
          ]
        },
        {
          "name": "stderr",
          "output_type": "stream",
          "text": [
            "100%|██████████| 9912422/9912422 [00:01<00:00, 5195790.31it/s]\n"
          ]
        },
        {
          "name": "stdout",
          "output_type": "stream",
          "text": [
            "Extracting ./data\\MNIST\\raw\\train-images-idx3-ubyte.gz to ./data\\MNIST\\raw\n",
            "\n",
            "Downloading http://yann.lecun.com/exdb/mnist/train-labels-idx1-ubyte.gz\n",
            "Failed to download (trying next):\n",
            "HTTP Error 404: Not Found\n",
            "\n",
            "Downloading https://ossci-datasets.s3.amazonaws.com/mnist/train-labels-idx1-ubyte.gz\n",
            "Downloading https://ossci-datasets.s3.amazonaws.com/mnist/train-labels-idx1-ubyte.gz to ./data\\MNIST\\raw\\train-labels-idx1-ubyte.gz\n"
          ]
        },
        {
          "name": "stderr",
          "output_type": "stream",
          "text": [
            "100%|██████████| 28881/28881 [00:00<00:00, 262237.64it/s]\n"
          ]
        },
        {
          "name": "stdout",
          "output_type": "stream",
          "text": [
            "Extracting ./data\\MNIST\\raw\\train-labels-idx1-ubyte.gz to ./data\\MNIST\\raw\n",
            "\n",
            "Downloading http://yann.lecun.com/exdb/mnist/t10k-images-idx3-ubyte.gz\n",
            "Failed to download (trying next):\n",
            "HTTP Error 404: Not Found\n",
            "\n",
            "Downloading https://ossci-datasets.s3.amazonaws.com/mnist/t10k-images-idx3-ubyte.gz\n",
            "Downloading https://ossci-datasets.s3.amazonaws.com/mnist/t10k-images-idx3-ubyte.gz to ./data\\MNIST\\raw\\t10k-images-idx3-ubyte.gz\n"
          ]
        },
        {
          "name": "stderr",
          "output_type": "stream",
          "text": [
            "100%|██████████| 1648877/1648877 [00:00<00:00, 2302544.82it/s]\n"
          ]
        },
        {
          "name": "stdout",
          "output_type": "stream",
          "text": [
            "Extracting ./data\\MNIST\\raw\\t10k-images-idx3-ubyte.gz to ./data\\MNIST\\raw\n",
            "\n",
            "Downloading http://yann.lecun.com/exdb/mnist/t10k-labels-idx1-ubyte.gz\n",
            "Failed to download (trying next):\n",
            "HTTP Error 404: Not Found\n",
            "\n",
            "Downloading https://ossci-datasets.s3.amazonaws.com/mnist/t10k-labels-idx1-ubyte.gz\n",
            "Downloading https://ossci-datasets.s3.amazonaws.com/mnist/t10k-labels-idx1-ubyte.gz to ./data\\MNIST\\raw\\t10k-labels-idx1-ubyte.gz\n"
          ]
        },
        {
          "name": "stderr",
          "output_type": "stream",
          "text": [
            "100%|██████████| 4542/4542 [00:00<00:00, 2074091.32it/s]"
          ]
        },
        {
          "name": "stdout",
          "output_type": "stream",
          "text": [
            "Extracting ./data\\MNIST\\raw\\t10k-labels-idx1-ubyte.gz to ./data\\MNIST\\raw\n",
            "\n"
          ]
        },
        {
          "name": "stderr",
          "output_type": "stream",
          "text": [
            "\n"
          ]
        }
      ],
      "source": [
        "import torch\n",
        "import torchvision\n",
        "from matplotlib import pyplot\n",
        "\n",
        "trainset = torchvision.datasets.MNIST(root='./data',\n",
        "                                      train=True,\n",
        "                                      download=True,\n",
        "                                      transform=None)"
      ]
    },
    {
      "cell_type": "code",
      "execution_count": 4,
      "id": "gcgep60g_Xs6",
      "metadata": {
        "colab": {
          "base_uri": "https://localhost:8080/",
          "height": 430
        },
        "id": "gcgep60g_Xs6",
        "outputId": "ae4ab490-5c4a-41f2-c7db-7469d687105d"
      },
      "outputs": [
        {
          "data": {
            "image/png": "[encoded data removed]",
            "text/plain": [
              "<Figure size 640x480 with 1 Axes>"
            ]
          },
          "metadata": {},
          "output_type": "display_data"
        }
      ],
      "source": [
        "train_image, train_target = trainset[0]    #let us examine the 0-th sample\n",
        "pyplot.imshow(train_image)\n",
        "pyplot.show()"
      ]
    },
    {
      "cell_type": "code",
      "execution_count": 5,
      "id": "5toa5f-l_eUS",
      "metadata": {
        "colab": {
          "base_uri": "https://localhost:8080/"
        },
        "id": "5toa5f-l_eUS",
        "outputId": "6910f57f-a93d-4048-d716-34df2aa65151"
      },
      "outputs": [
        {
          "data": {
            "text/plain": [
              "tensor([[  0,   0,   0,   0,   0,   0,   0,   0,   0,   0,   0,   0,   0,   0,\n",
              "           0,   0,   0,   0,   0,   0,   0,   0,   0,   0,   0,   0,   0,   0],\n",
              "        [  0,   0,   0,   0,   0,   0,   0,   0,   0,   0,   0,   0,   0,   0,\n",
              "           0,   0,   0,   0,   0,   0,   0,   0,   0,   0,   0,   0,   0,   0],\n",
              "        [  0,   0,   0,   0,   0,   0,   0,   0,   0,   0,   0,   0,   0,   0,\n",
              "           0,   0,   0,   0,   0,   0,   0,   0,   0,   0,   0,   0,   0,   0],\n",
              "        [  0,   0,   0,   0,   0,   0,   0,   0,   0,   0,   0,   0,   0,   0,\n",
              "           0,   0,   0,   0,   0,   0,   0,   0,   0,   0,   0,   0,   0,   0],\n",
              "        [  0,   0,   0,   0,   0,   0,   0,   0,   0,   0,   0,   0,   0,   0,\n",
              "           0,   0,   0,   0,   0,   0,   0,   0,   0,   0,   0,   0,   0,   0],\n",
              "        [  0,   0,   0,   0,   0,   0,   0,   0,   0,   0,   0,   0,   3,  18,\n",
              "          18,  18, 126, 136, 175,  26, 166, 255, 247, 127,   0,   0,   0,   0],\n",
              "        [  0,   0,   0,   0,   0,   0,   0,   0,  30,  36,  94, 154, 170, 253,\n",
              "         253, 253, 253, 253, 225, 172, 253, 242, 195,  64,   0,   0,   0,   0],\n",
              "        [  0,   0,   0,   0,   0,   0,   0,  49, 238, 253, 253, 253, 253, 253,\n",
              "         253, 253, 253, 251,  93,  82,  82,  56,  39,   0,   0,   0,   0,   0],\n",
              "        [  0,   0,   0,   0,   0,   0,   0,  18, 219, 253, 253, 253, 253, 253,\n",
              "         198, 182, 247, 241,   0,   0,   0,   0,   0,   0,   0,   0,   0,   0],\n",
              "        [  0,   0,   0,   0,   0,   0,   0,   0,  80, 156, 107, 253, 253, 205,\n",
              "          11,   0,  43, 154,   0,   0,   0,   0,   0,   0,   0,   0,   0,   0],\n",
              "        [  0,   0,   0,   0,   0,   0,   0,   0,   0,  14,   1, 154, 253,  90,\n",
              "           0,   0,   0,   0,   0,   0,   0,   0,   0,   0,   0,   0,   0,   0],\n",
              "        [  0,   0,   0,   0,   0,   0,   0,   0,   0,   0,   0, 139, 253, 190,\n",
              "           2,   0,   0,   0,   0,   0,   0,   0,   0,   0,   0,   0,   0,   0],\n",
              "        [  0,   0,   0,   0,   0,   0,   0,   0,   0,   0,   0,  11, 190, 253,\n",
              "          70,   0,   0,   0,   0,   0,   0,   0,   0,   0,   0,   0,   0,   0],\n",
              "        [  0,   0,   0,   0,   0,   0,   0,   0,   0,   0,   0,   0,  35, 241,\n",
              "         225, 160, 108,   1,   0,   0,   0,   0,   0,   0,   0,   0,   0,   0],\n",
              "        [  0,   0,   0,   0,   0,   0,   0,   0,   0,   0,   0,   0,   0,  81,\n",
              "         240, 253, 253, 119,  25,   0,   0,   0,   0,   0,   0,   0,   0,   0],\n",
              "        [  0,   0,   0,   0,   0,   0,   0,   0,   0,   0,   0,   0,   0,   0,\n",
              "          45, 186, 253, 253, 150,  27,   0,   0,   0,   0,   0,   0,   0,   0],\n",
              "        [  0,   0,   0,   0,   0,   0,   0,   0,   0,   0,   0,   0,   0,   0,\n",
              "           0,  16,  93, 252, 253, 187,   0,   0,   0,   0,   0,   0,   0,   0],\n",
              "        [  0,   0,   0,   0,   0,   0,   0,   0,   0,   0,   0,   0,   0,   0,\n",
              "           0,   0,   0, 249, 253, 249,  64,   0,   0,   0,   0,   0,   0,   0],\n",
              "        [  0,   0,   0,   0,   0,   0,   0,   0,   0,   0,   0,   0,   0,   0,\n",
              "          46, 130, 183, 253, 253, 207,   2,   0,   0,   0,   0,   0,   0,   0],\n",
              "        [  0,   0,   0,   0,   0,   0,   0,   0,   0,   0,   0,   0,  39, 148,\n",
              "         229, 253, 253, 253, 250, 182,   0,   0,   0,   0,   0,   0,   0,   0],\n",
              "        [  0,   0,   0,   0,   0,   0,   0,   0,   0,   0,  24, 114, 221, 253,\n",
              "         253, 253, 253, 201,  78,   0,   0,   0,   0,   0,   0,   0,   0,   0],\n",
              "        [  0,   0,   0,   0,   0,   0,   0,   0,  23,  66, 213, 253, 253, 253,\n",
              "         253, 198,  81,   2,   0,   0,   0,   0,   0,   0,   0,   0,   0,   0],\n",
              "        [  0,   0,   0,   0,   0,   0,  18, 171, 219, 253, 253, 253, 253, 195,\n",
              "          80,   9,   0,   0,   0,   0,   0,   0,   0,   0,   0,   0,   0,   0],\n",
              "        [  0,   0,   0,   0,  55, 172, 226, 253, 253, 253, 253, 244, 133,  11,\n",
              "           0,   0,   0,   0,   0,   0,   0,   0,   0,   0,   0,   0,   0,   0],\n",
              "        [  0,   0,   0,   0, 136, 253, 253, 253, 212, 135, 132,  16,   0,   0,\n",
              "           0,   0,   0,   0,   0,   0,   0,   0,   0,   0,   0,   0,   0,   0],\n",
              "        [  0,   0,   0,   0,   0,   0,   0,   0,   0,   0,   0,   0,   0,   0,\n",
              "           0,   0,   0,   0,   0,   0,   0,   0,   0,   0,   0,   0,   0,   0],\n",
              "        [  0,   0,   0,   0,   0,   0,   0,   0,   0,   0,   0,   0,   0,   0,\n",
              "           0,   0,   0,   0,   0,   0,   0,   0,   0,   0,   0,   0,   0,   0],\n",
              "        [  0,   0,   0,   0,   0,   0,   0,   0,   0,   0,   0,   0,   0,   0,\n",
              "           0,   0,   0,   0,   0,   0,   0,   0,   0,   0,   0,   0,   0,   0]],\n",
              "       dtype=torch.uint8)"
            ]
          },
          "execution_count": 5,
          "metadata": {},
          "output_type": "execute_result"
        }
      ],
      "source": [
        "trainset.data[0]     #it will be shown in two rows, so a human has hard time classificating it"
      ]
    },
    {
      "cell_type": "code",
      "execution_count": 6,
      "id": "eNgiEB1V_hbV",
      "metadata": {
        "colab": {
          "base_uri": "https://localhost:8080/"
        },
        "id": "eNgiEB1V_hbV",
        "outputId": "ce570378-530f-44be-e511-a53925acc0a1"
      },
      "outputs": [
        {
          "data": {
            "text/plain": [
              "5"
            ]
          },
          "execution_count": 6,
          "metadata": {},
          "output_type": "execute_result"
        }
      ],
      "source": [
        "trainset[0][1]    #check if you classified it correctly in your mind"
      ]
    },
    {
      "cell_type": "markdown",
      "id": "5kvPHSvuAdDK",
      "metadata": {
        "id": "5kvPHSvuAdDK"
      },
      "source": [
        "# Rereading the MNIST Data (Serious Preparation for Training)\n",
        "------------------"
      ]
    },
    {
      "cell_type": "code",
      "execution_count": 8,
      "id": "Ar2Rzq7UAcjC",
      "metadata": {
        "colab": {
          "base_uri": "https://localhost:8080/"
        },
        "id": "Ar2Rzq7UAcjC",
        "outputId": "7618aed6-20ea-43fe-a562-e40b16038775"
      },
      "outputs": [
        {
          "data": {
            "text/plain": [
              "(0.1306604762738429, 0.30810780385646264)"
            ]
          },
          "execution_count": 8,
          "metadata": {},
          "output_type": "execute_result"
        }
      ],
      "source": [
        "(trainset.data.numpy().mean()/255.0, trainset.data.numpy().std()/255.0)   #MNIST datapoints are RGB integers 0-255"
      ]
    },
    {
      "cell_type": "markdown",
      "id": "-waIu3OQXGx0",
      "metadata": {
        "id": "-waIu3OQXGx0"
      },
      "source": [
        "# Task\n",
        "---------------\n",
        "\n",
        "Why do we need to normalize the data, and not feed the NN with the 0-255 integers?"
      ]
    },
    {
      "cell_type": "code",
      "execution_count": null,
      "id": "01dayZiEAk3C",
      "metadata": {
        "id": "01dayZiEAk3C"
      },
      "outputs": [],
      "source": [
        "transform = torchvision.transforms.Compose(\n",
        "    [torchvision.transforms.ToTensor(), #Converts a PIL Image or numpy.ndarray (H x W x C) in the range [0, 255] to a torch.FloatTensor of shape (C x H x W) in the range [0.0, 1.0]\n",
        "     torchvision.transforms.Normalize((0.1307), (0.3081))])\n",
        "\n",
        "trainset = torchvision.datasets.MNIST(root='./data',\n",
        "                                      train=True,\n",
        "                                      download=True,\n",
        "                                      transform=transform)\n",
        "\n",
        "trainloader = torch.utils.data.DataLoader(trainset,\n",
        "                                          batch_size=2048,\n",
        "                                          shuffle=True)   #we do shuffle it to give more randomizations to training epochs\n",
        "\n",
        "testset = torchvision.datasets.MNIST(root='./data',\n",
        "                                     train=False,\n",
        "                                     download=True,\n",
        "                                     transform=transform)\n",
        "\n",
        "testloader = torch.utils.data.DataLoader(testset,\n",
        "                                         batch_size=1,\n",
        "                                         shuffle=False)"
      ]
    },
    {
      "cell_type": "markdown",
      "id": "dfqt0kUECnZB",
      "metadata": {
        "id": "dfqt0kUECnZB"
      },
      "source": [
        "## Visualizing Data\n"
      ]
    },
    {
      "cell_type": "markdown",
      "id": "fxGIwBKGCtFa",
      "metadata": {
        "id": "fxGIwBKGCtFa"
      },
      "source": [
        "### Labels (Ground Truth Outputs)"
      ]
    },
    {
      "cell_type": "code",
      "execution_count": 9,
      "id": "bzu3lJ2lCwFq",
      "metadata": {
        "colab": {
          "base_uri": "https://localhost:8080/"
        },
        "id": "bzu3lJ2lCwFq",
        "outputId": "46d84be6-70c8-4c34-b0df-e6fa28f7418c"
      },
      "outputs": [
        {
          "name": "stdout",
          "output_type": "stream",
          "text": [
            "0-th batch labels : tensor([4, 6, 3,  ..., 2, 1, 2])\n",
            "1-th batch labels : tensor([0, 0, 7,  ..., 8, 8, 6])\n",
            "2-th batch labels : tensor([1, 8, 0,  ..., 0, 5, 8])\n",
            "3-th batch labels : tensor([3, 2, 1,  ..., 6, 9, 0])\n",
            "4-th batch labels : tensor([0, 1, 4,  ..., 1, 9, 9])\n"
          ]
        }
      ],
      "source": [
        "for i, data in enumerate(trainloader):\n",
        "        batch_inputs, batch_labels = data\n",
        "\n",
        "        if i<5:\n",
        "            print(f\"{i}-th batch labels :\", batch_labels)"
      ]
    },
    {
      "cell_type": "markdown",
      "id": "PebIPPfpC05T",
      "metadata": {
        "id": "PebIPPfpC05T"
      },
      "source": [
        "A single label is an entity of order zero (a constant), but batched labels are of order one. The first (and only) index is a sample index within a batch."
      ]
    },
    {
      "cell_type": "markdown",
      "id": "NLmKJ1FbC2qJ",
      "metadata": {
        "id": "NLmKJ1FbC2qJ"
      },
      "source": [
        "### Inputs"
      ]
    },
    {
      "cell_type": "code",
      "execution_count": null,
      "id": "2jcRrNw_DQui",
      "metadata": {
        "colab": {
          "base_uri": "https://localhost:8080/"
        },
        "id": "2jcRrNw_DQui",
        "outputId": "59d2e0d2-1f26-47ca-9710-41c1c7aaf42d"
      },
      "outputs": [
        {
          "name": "stdout",
          "output_type": "stream",
          "text": [
            "0 -th batch inputs : tensor([[[[-0.4242, -0.4242, -0.4242,  ..., -0.4242, -0.4242, -0.4242],\n",
            "          [-0.4242, -0.4242, -0.4242,  ..., -0.4242, -0.4242, -0.4242],\n",
            "          [-0.4242, -0.4242, -0.4242,  ..., -0.4242, -0.4242, -0.4242],\n",
            "          ...,\n",
            "          [-0.4242, -0.4242, -0.4242,  ..., -0.4242, -0.4242, -0.4242],\n",
            "          [-0.4242, -0.4242, -0.4242,  ..., -0.4242, -0.4242, -0.4242],\n",
            "          [-0.4242, -0.4242, -0.4242,  ..., -0.4242, -0.4242, -0.4242]]],\n",
            "\n",
            "\n",
            "        [[[-0.4242, -0.4242, -0.4242,  ..., -0.4242, -0.4242, -0.4242],\n",
            "          [-0.4242, -0.4242, -0.4242,  ..., -0.4242, -0.4242, -0.4242],\n",
            "          [-0.4242, -0.4242, -0.4242,  ..., -0.4242, -0.4242, -0.4242],\n",
            "          ...,\n",
            "          [-0.4242, -0.4242, -0.4242,  ..., -0.4242, -0.4242, -0.4242],\n",
            "          [-0.4242, -0.4242, -0.4242,  ..., -0.4242, -0.4242, -0.4242],\n",
            "          [-0.4242, -0.4242, -0.4242,  ..., -0.4242, -0.4242, -0.4242]]],\n",
            "\n",
            "\n",
            "        [[[-0.4242, -0.4242, -0.4242,  ..., -0.4242, -0.4242, -0.4242],\n",
            "          [-0.4242, -0.4242, -0.4242,  ..., -0.4242, -0.4242, -0.4242],\n",
            "          [-0.4242, -0.4242, -0.4242,  ..., -0.4242, -0.4242, -0.4242],\n",
            "          ...,\n",
            "          [-0.4242, -0.4242, -0.4242,  ..., -0.4242, -0.4242, -0.4242],\n",
            "          [-0.4242, -0.4242, -0.4242,  ..., -0.4242, -0.4242, -0.4242],\n",
            "          [-0.4242, -0.4242, -0.4242,  ..., -0.4242, -0.4242, -0.4242]]],\n",
            "\n",
            "\n",
            "        ...,\n",
            "\n",
            "\n",
            "        [[[-0.4242, -0.4242, -0.4242,  ..., -0.4242, -0.4242, -0.4242],\n",
            "          [-0.4242, -0.4242, -0.4242,  ..., -0.4242, -0.4242, -0.4242],\n",
            "          [-0.4242, -0.4242, -0.4242,  ..., -0.4242, -0.4242, -0.4242],\n",
            "          ...,\n",
            "          [-0.4242, -0.4242, -0.4242,  ..., -0.4242, -0.4242, -0.4242],\n",
            "          [-0.4242, -0.4242, -0.4242,  ..., -0.4242, -0.4242, -0.4242],\n",
            "          [-0.4242, -0.4242, -0.4242,  ..., -0.4242, -0.4242, -0.4242]]],\n",
            "\n",
            "\n",
            "        [[[-0.4242, -0.4242, -0.4242,  ..., -0.4242, -0.4242, -0.4242],\n",
            "          [-0.4242, -0.4242, -0.4242,  ..., -0.4242, -0.4242, -0.4242],\n",
            "          [-0.4242, -0.4242, -0.4242,  ..., -0.4242, -0.4242, -0.4242],\n",
            "          ...,\n",
            "          [-0.4242, -0.4242, -0.4242,  ..., -0.4242, -0.4242, -0.4242],\n",
            "          [-0.4242, -0.4242, -0.4242,  ..., -0.4242, -0.4242, -0.4242],\n",
            "          [-0.4242, -0.4242, -0.4242,  ..., -0.4242, -0.4242, -0.4242]]],\n",
            "\n",
            "\n",
            "        [[[-0.4242, -0.4242, -0.4242,  ..., -0.4242, -0.4242, -0.4242],\n",
            "          [-0.4242, -0.4242, -0.4242,  ..., -0.4242, -0.4242, -0.4242],\n",
            "          [-0.4242, -0.4242, -0.4242,  ..., -0.4242, -0.4242, -0.4242],\n",
            "          ...,\n",
            "          [-0.4242, -0.4242, -0.4242,  ..., -0.4242, -0.4242, -0.4242],\n",
            "          [-0.4242, -0.4242, -0.4242,  ..., -0.4242, -0.4242, -0.4242],\n",
            "          [-0.4242, -0.4242, -0.4242,  ..., -0.4242, -0.4242, -0.4242]]]])\n"
          ]
        }
      ],
      "source": [
        "for i, data in enumerate(trainloader):\n",
        "        batch_inputs, batch_labels = data\n",
        "\n",
        "        if i==0:\n",
        "            print(f\"{i}-th batch inputs :\", batch_inputs)"
      ]
    },
    {
      "cell_type": "markdown",
      "id": "YTcC3qH2DZOK",
      "metadata": {
        "id": "YTcC3qH2DZOK"
      },
      "source": [
        "OK, so each data image was initially a two dimensional image when we first saw it, but now the batches have order 4. The first index is a sample index within a batch, but a second index is always 0. This index represents a Channel number inserted here by `ToTensor()` transformation, always 0. As this order is one-dimensional, we can get rid of it, later, in training, in `Flatten` layer or by using `squeeze()` on a tensor."
      ]
    },
    {
      "cell_type": "markdown",
      "id": "ZX09I7rUDkei",
      "metadata": {
        "id": "ZX09I7rUDkei"
      },
      "source": [
        "# MLP Definition\n",
        "-----------------\n",
        "\n",
        "Your job now is to take the (fully functional) definition of the MLP structure and get rid off the Sequential layer.\n"
      ]
    },
    {
      "cell_type": "code",
      "execution_count": 11,
      "id": "_jaDXM9oDvrx",
      "metadata": {
        "id": "_jaDXM9oDvrx"
      },
      "outputs": [],
      "source": [
        "class MLP(torch.nn.Module):\n",
        "    def __init__(self):\n",
        "        super().__init__()\n",
        "        self.mlp = torch.nn.Sequential(   #Sequential is a structure which allows stacking layers one on another in such a way,\n",
        "                                          #that output from a preceding layer serves as input to the next layer\n",
        "            torch.nn.Flatten(),   #change the last three orders in data (with dimensions 1, 28 and 28 respectively) into one order of dimensions (1*28*28)\n",
        "            torch.nn.Linear(1*28*28, 1024),  #which is used as INPUT to the first Linear layer\n",
        "            torch.nn.ReLU(),\n",
        "            torch.nn.Linear(1024, 2048),   #IMPORTANT! Please observe, that the OUTPUT dimension of a preceding layer is always equal to the INPUT dimension of the next layer.\n",
        "            torch.nn.ReLU(),\n",
        "            torch.nn.Linear(2048, 256),\n",
        "            torch.nn.ReLU(),            #ReLU (or a Sigmoid if you want) is a nonlinear function which is used in-between layers\n",
        "            torch.nn.Linear(256, 10),\n",
        "        )\n",
        "        self.dropout = torch.nn.Dropout(0.05)\n",
        "\n",
        "    def forward(self, x):\n",
        "        x = self.mlp(x)\n",
        "        x = self.dropout(x)\n",
        "        return x"
      ]
    },
    {
      "cell_type": "code",
      "execution_count": null,
      "id": "TSoP6W2UECwb",
      "metadata": {
        "id": "TSoP6W2UECwb"
      },
      "outputs": [],
      "source": [
        "class MLP(torch.nn.Module):\n",
        "    def __init__(self):\n",
        "        super().__init__()\n",
        "        self.relu = torch.nn.ReLU()\n",
        "        self.flatten = torch.nn.Flatten()\n",
        "        self.linear1 = torch.nn.Linear(1*28*28, 1024),  #which is used as INPUT to the first Linear layer\n",
        "\n",
        "        # TODO: add more layers\n",
        "        self.linear2 = torch.nn.Linear(1024, 2048),\n",
        "        self.linear3 = torch.nn.Linear(2048, 256)\n",
        "        self.linear4 = torch.nn.Linear(256, 10)\n",
        "        \n",
        "        self.dropout = torch.nn.Dropout(0.05)\n",
        "\n",
        "    def forward(self, x):\n",
        "\n",
        "        x = self.flatten(x)\n",
        "\n",
        "        # TODO: add more layers\n",
        "        x = self.linear1(x)\n",
        "        x = self.relu(x)\n",
        "        \n",
        "        x = self.linear2(x)\n",
        "        x = self.relu(x)\n",
        "        \n",
        "        x = self.linear3(x)\n",
        "        x = self.relu(x)\n",
        "        \n",
        "        x = self.linear4(x)\n",
        "        x = self.relu(x)\n",
        "\n",
        "        x = self.dropout(x)\n",
        "        return x"
      ]
    },
    {
      "cell_type": "markdown",
      "id": "fE5rN8UTFFw7",
      "metadata": {
        "id": "fE5rN8UTFFw7"
      },
      "source": [
        "# Training Loop\n",
        "----------------------"
      ]
    },
    {
      "cell_type": "code",
      "execution_count": null,
      "id": "55Sda8Y5FIOh",
      "metadata": {
        "colab": {
          "base_uri": "https://localhost:8080/",
          "height": 599
        },
        "id": "55Sda8Y5FIOh",
        "outputId": "d9d290ee-a377-482a-98ba-0db55f771bba"
      },
      "outputs": [
        {
          "name": "stdout",
          "output_type": "stream",
          "text": [
            "Working on cuda\n",
            "epoch: 0 batch: 0 current batch loss: 2.305163860321045\n",
            "epoch: 0 batch: 1 current batch loss: 2.0677907466888428\n",
            "epoch: 0 batch: 2 current batch loss: 1.6306910514831543\n",
            "epoch: 0 batch: 3 current batch loss: 1.1950955390930176\n",
            "epoch: 0 batch: 4 current batch loss: 0.9743091464042664\n",
            "epoch: 0 batch: 5 current batch loss: 0.9688177108764648\n",
            "epoch: 0 batch: 6 current batch loss: 1.158651351928711\n",
            "epoch: 0 batch: 7 current batch loss: 0.9952417612075806\n",
            "epoch: 0 batch: 8 current batch loss: 0.7575462460517883\n",
            "epoch: 0 batch: 9 current batch loss: 0.6330823302268982\n",
            "epoch: 0 batch: 10 current batch loss: 0.6918318271636963\n",
            "epoch: 0 batch: 11 current batch loss: 0.6797446012496948\n",
            "epoch: 0 batch: 12 current batch loss: 0.5630980134010315\n",
            "epoch: 0 batch: 13 current batch loss: 0.5124673247337341\n",
            "epoch: 0 batch: 14 current batch loss: 0.47707319259643555\n",
            "epoch: 0 batch: 15 current batch loss: 0.4600544273853302\n",
            "epoch: 0 batch: 16 current batch loss: 0.5172656178474426\n",
            "epoch: 0 batch: 17 current batch loss: 0.4717537462711334\n",
            "epoch: 0 batch: 18 current batch loss: 0.4194905161857605\n",
            "epoch: 0 batch: 19 current batch loss: 0.3729337155818939\n",
            "epoch: 0 batch: 20 current batch loss: 0.3553139269351959\n",
            "epoch: 0 batch: 21 current batch loss: 0.3573385775089264\n",
            "epoch: 0 batch: 22 current batch loss: 0.30425259470939636\n",
            "epoch: 0 batch: 23 current batch loss: 0.3490004539489746\n",
            "epoch: 0 batch: 24 current batch loss: 0.3095179498195648\n",
            "epoch: 0 batch: 25 current batch loss: 0.3061702251434326\n",
            "epoch: 0 batch: 26 current batch loss: 0.28451985120773315\n",
            "epoch: 0 batch: 27 current batch loss: 0.30510175228118896\n",
            "epoch: 0 batch: 28 current batch loss: 0.2624574601650238\n",
            "epoch: 0 batch: 29 current batch loss: 0.2687564194202423\n",
            "epoch: 1 batch: 0 current batch loss: 0.25029224157333374\n",
            "epoch: 1 batch: 1 current batch loss: 0.241564080119133\n",
            "epoch: 1 batch: 2 current batch loss: 0.23635496199131012\n",
            "epoch: 1 batch: 3 current batch loss: 0.2406480610370636\n",
            "epoch: 1 batch: 4 current batch loss: 0.2599484324455261\n",
            "epoch: 1 batch: 5 current batch loss: 0.2407580316066742\n",
            "epoch: 1 batch: 6 current batch loss: 0.22557982802391052\n",
            "epoch: 1 batch: 7 current batch loss: 0.21825914084911346\n",
            "epoch: 1 batch: 8 current batch loss: 0.23153313994407654\n",
            "epoch: 1 batch: 9 current batch loss: 0.2210370898246765\n",
            "epoch: 1 batch: 10 current batch loss: 0.19723227620124817\n",
            "epoch: 1 batch: 11 current batch loss: 0.21173056960105896\n",
            "epoch: 1 batch: 12 current batch loss: 0.20088322460651398\n",
            "epoch: 1 batch: 13 current batch loss: 0.18373362720012665\n",
            "epoch: 1 batch: 14 current batch loss: 0.21651938557624817\n",
            "epoch: 1 batch: 15 current batch loss: 0.21338587999343872\n",
            "epoch: 1 batch: 16 current batch loss: 0.185398131608963\n",
            "epoch: 1 batch: 17 current batch loss: 0.18358047306537628\n",
            "epoch: 1 batch: 18 current batch loss: 0.1757810115814209\n",
            "epoch: 1 batch: 19 current batch loss: 0.194632887840271\n",
            "epoch: 1 batch: 20 current batch loss: 0.18668794631958008\n",
            "epoch: 1 batch: 21 current batch loss: 0.1503540277481079\n",
            "epoch: 1 batch: 22 current batch loss: 0.16440711915493011\n",
            "epoch: 1 batch: 23 current batch loss: 0.17615823447704315\n",
            "epoch: 1 batch: 24 current batch loss: 0.20505861937999725\n",
            "epoch: 1 batch: 25 current batch loss: 0.1874331533908844\n",
            "epoch: 1 batch: 26 current batch loss: 0.19003842771053314\n",
            "epoch: 1 batch: 27 current batch loss: 0.17207670211791992\n",
            "epoch: 1 batch: 28 current batch loss: 0.14851346611976624\n",
            "epoch: 1 batch: 29 current batch loss: 0.14951470494270325\n",
            "epoch: 2 batch: 0 current batch loss: 0.16291125118732452\n",
            "epoch: 2 batch: 1 current batch loss: 0.13551485538482666\n",
            "epoch: 2 batch: 2 current batch loss: 0.17149579524993896\n",
            "epoch: 2 batch: 3 current batch loss: 0.13318577408790588\n",
            "epoch: 2 batch: 4 current batch loss: 0.15283428132534027\n",
            "epoch: 2 batch: 5 current batch loss: 0.1448458731174469\n",
            "epoch: 2 batch: 6 current batch loss: 0.17527168989181519\n",
            "epoch: 2 batch: 7 current batch loss: 0.1525406688451767\n",
            "epoch: 2 batch: 8 current batch loss: 0.13120076060295105\n",
            "epoch: 2 batch: 9 current batch loss: 0.14779159426689148\n",
            "epoch: 2 batch: 10 current batch loss: 0.1264592409133911\n",
            "epoch: 2 batch: 11 current batch loss: 0.11977019906044006\n",
            "epoch: 2 batch: 12 current batch loss: 0.13166330754756927\n",
            "epoch: 2 batch: 13 current batch loss: 0.12357094883918762\n",
            "epoch: 2 batch: 14 current batch loss: 0.12460700422525406\n",
            "epoch: 2 batch: 15 current batch loss: 0.10916735231876373\n",
            "epoch: 2 batch: 16 current batch loss: 0.1192869320511818\n",
            "epoch: 2 batch: 17 current batch loss: 0.12706688046455383\n",
            "epoch: 2 batch: 18 current batch loss: 0.12015467137098312\n",
            "epoch: 2 batch: 19 current batch loss: 0.11480271816253662\n",
            "epoch: 2 batch: 20 current batch loss: 0.12827494740486145\n",
            "epoch: 2 batch: 21 current batch loss: 0.12306547909975052\n",
            "epoch: 2 batch: 22 current batch loss: 0.10661598294973373\n",
            "epoch: 2 batch: 23 current batch loss: 0.12851852178573608\n",
            "epoch: 2 batch: 24 current batch loss: 0.10888583958148956\n",
            "epoch: 2 batch: 25 current batch loss: 0.1102474182844162\n",
            "epoch: 2 batch: 26 current batch loss: 0.12437014281749725\n",
            "epoch: 2 batch: 27 current batch loss: 0.11527480185031891\n",
            "epoch: 2 batch: 28 current batch loss: 0.11395397037267685\n",
            "epoch: 2 batch: 29 current batch loss: 0.1460752934217453\n",
            "epoch: 3 batch: 0 current batch loss: 0.08555275946855545\n",
            "epoch: 3 batch: 1 current batch loss: 0.09486734867095947\n",
            "epoch: 3 batch: 2 current batch loss: 0.09152057021856308\n",
            "epoch: 3 batch: 3 current batch loss: 0.08206696808338165\n",
            "epoch: 3 batch: 4 current batch loss: 0.10177983343601227\n",
            "epoch: 3 batch: 5 current batch loss: 0.09592969715595245\n",
            "epoch: 3 batch: 6 current batch loss: 0.09540680795907974\n",
            "epoch: 3 batch: 7 current batch loss: 0.1025206595659256\n",
            "epoch: 3 batch: 8 current batch loss: 0.09982115775346756\n",
            "epoch: 3 batch: 9 current batch loss: 0.10511592030525208\n",
            "epoch: 3 batch: 10 current batch loss: 0.10899657756090164\n",
            "epoch: 3 batch: 11 current batch loss: 0.09668844938278198\n",
            "epoch: 3 batch: 12 current batch loss: 0.11146829277276993\n",
            "epoch: 3 batch: 13 current batch loss: 0.08532384037971497\n",
            "epoch: 3 batch: 14 current batch loss: 0.08848990499973297\n",
            "epoch: 3 batch: 15 current batch loss: 0.0983429029583931\n",
            "epoch: 3 batch: 16 current batch loss: 0.10209479928016663\n",
            "epoch: 3 batch: 17 current batch loss: 0.09131628274917603\n",
            "epoch: 3 batch: 18 current batch loss: 0.09906427562236786\n",
            "epoch: 3 batch: 19 current batch loss: 0.08327432721853256\n",
            "epoch: 3 batch: 20 current batch loss: 0.09058008342981339\n",
            "epoch: 3 batch: 21 current batch loss: 0.09126888960599899\n",
            "epoch: 3 batch: 22 current batch loss: 0.08366677165031433\n",
            "epoch: 3 batch: 23 current batch loss: 0.11969549208879471\n",
            "epoch: 3 batch: 24 current batch loss: 0.09525735676288605\n",
            "epoch: 3 batch: 25 current batch loss: 0.09459976106882095\n",
            "epoch: 3 batch: 26 current batch loss: 0.08304224908351898\n",
            "epoch: 3 batch: 27 current batch loss: 0.08844904601573944\n",
            "epoch: 3 batch: 28 current batch loss: 0.10363345593214035\n",
            "epoch: 3 batch: 29 current batch loss: 0.05583522841334343\n",
            "epoch: 4 batch: 0 current batch loss: 0.07443412393331528\n",
            "epoch: 4 batch: 1 current batch loss: 0.08128926157951355\n",
            "epoch: 4 batch: 2 current batch loss: 0.06291303783655167\n",
            "epoch: 4 batch: 3 current batch loss: 0.06941554695367813\n",
            "epoch: 4 batch: 4 current batch loss: 0.06529182195663452\n",
            "epoch: 4 batch: 5 current batch loss: 0.0694565400481224\n",
            "epoch: 4 batch: 6 current batch loss: 0.07135481387376785\n",
            "epoch: 4 batch: 7 current batch loss: 0.0765065848827362\n",
            "epoch: 4 batch: 8 current batch loss: 0.07448547333478928\n",
            "epoch: 4 batch: 9 current batch loss: 0.0737561285495758\n",
            "epoch: 4 batch: 10 current batch loss: 0.07913564145565033\n",
            "epoch: 4 batch: 11 current batch loss: 0.061653219163417816\n",
            "epoch: 4 batch: 12 current batch loss: 0.07643275707960129\n",
            "epoch: 4 batch: 13 current batch loss: 0.05522637441754341\n",
            "epoch: 4 batch: 14 current batch loss: 0.07078436762094498\n",
            "epoch: 4 batch: 15 current batch loss: 0.05944758281111717\n",
            "epoch: 4 batch: 16 current batch loss: 0.09022996574640274\n",
            "epoch: 4 batch: 17 current batch loss: 0.07501725852489471\n",
            "epoch: 4 batch: 18 current batch loss: 0.07100742310285568\n",
            "epoch: 4 batch: 19 current batch loss: 0.06434517353773117\n",
            "epoch: 4 batch: 20 current batch loss: 0.07981938123703003\n",
            "epoch: 4 batch: 21 current batch loss: 0.06299978494644165\n",
            "epoch: 4 batch: 22 current batch loss: 0.06037961319088936\n",
            "epoch: 4 batch: 23 current batch loss: 0.07921729981899261\n",
            "epoch: 4 batch: 24 current batch loss: 0.08131037652492523\n",
            "epoch: 4 batch: 25 current batch loss: 0.08234672248363495\n",
            "epoch: 4 batch: 26 current batch loss: 0.06451459974050522\n",
            "epoch: 4 batch: 27 current batch loss: 0.07346518337726593\n",
            "epoch: 4 batch: 28 current batch loss: 0.06598276644945145\n",
            "epoch: 4 batch: 29 current batch loss: 0.07339328527450562\n",
            "epoch: 5 batch: 0 current batch loss: 0.05806077644228935\n",
            "epoch: 5 batch: 1 current batch loss: 0.052552513778209686\n",
            "epoch: 5 batch: 2 current batch loss: 0.055749472230672836\n",
            "epoch: 5 batch: 3 current batch loss: 0.05300014466047287\n",
            "epoch: 5 batch: 4 current batch loss: 0.0622541680932045\n",
            "epoch: 5 batch: 5 current batch loss: 0.06200576201081276\n",
            "epoch: 5 batch: 6 current batch loss: 0.05731098726391792\n",
            "epoch: 5 batch: 7 current batch loss: 0.06460186839103699\n",
            "epoch: 5 batch: 8 current batch loss: 0.06065580993890762\n",
            "epoch: 5 batch: 9 current batch loss: 0.056923918426036835\n",
            "epoch: 5 batch: 10 current batch loss: 0.051950763911008835\n",
            "epoch: 5 batch: 11 current batch loss: 0.06714055687189102\n",
            "epoch: 5 batch: 12 current batch loss: 0.06444188207387924\n",
            "epoch: 5 batch: 13 current batch loss: 0.059054549783468246\n",
            "epoch: 5 batch: 14 current batch loss: 0.06270013749599457\n",
            "epoch: 5 batch: 15 current batch loss: 0.05220158398151398\n",
            "epoch: 5 batch: 16 current batch loss: 0.05864928662776947\n",
            "epoch: 5 batch: 17 current batch loss: 0.04857274517416954\n",
            "epoch: 5 batch: 18 current batch loss: 0.04335315525531769\n",
            "epoch: 5 batch: 19 current batch loss: 0.06096328794956207\n",
            "epoch: 5 batch: 20 current batch loss: 0.050827451050281525\n",
            "epoch: 5 batch: 21 current batch loss: 0.04603166878223419\n",
            "epoch: 5 batch: 22 current batch loss: 0.06263326853513718\n",
            "epoch: 5 batch: 23 current batch loss: 0.05854655057191849\n",
            "epoch: 5 batch: 24 current batch loss: 0.04976128786802292\n",
            "epoch: 5 batch: 25 current batch loss: 0.04927346110343933\n",
            "epoch: 5 batch: 26 current batch loss: 0.05366747826337814\n",
            "epoch: 5 batch: 27 current batch loss: 0.057052306830883026\n",
            "epoch: 5 batch: 28 current batch loss: 0.06142093241214752\n",
            "epoch: 5 batch: 29 current batch loss: 0.050659485161304474\n",
            "epoch: 6 batch: 0 current batch loss: 0.04788240045309067\n",
            "epoch: 6 batch: 1 current batch loss: 0.04829353839159012\n",
            "epoch: 6 batch: 2 current batch loss: 0.048827532678842545\n",
            "epoch: 6 batch: 3 current batch loss: 0.047833990305662155\n",
            "epoch: 6 batch: 4 current batch loss: 0.04900166392326355\n",
            "epoch: 6 batch: 5 current batch loss: 0.04925905913114548\n",
            "epoch: 6 batch: 6 current batch loss: 0.04691058769822121\n",
            "epoch: 6 batch: 7 current batch loss: 0.05016753822565079\n",
            "epoch: 6 batch: 8 current batch loss: 0.03462120145559311\n",
            "epoch: 6 batch: 9 current batch loss: 0.05027014762163162\n",
            "epoch: 6 batch: 10 current batch loss: 0.03987991064786911\n",
            "epoch: 6 batch: 11 current batch loss: 0.04118968918919563\n",
            "epoch: 6 batch: 12 current batch loss: 0.051096152514219284\n",
            "epoch: 6 batch: 13 current batch loss: 0.04530032351613045\n",
            "epoch: 6 batch: 14 current batch loss: 0.03642035648226738\n",
            "epoch: 6 batch: 15 current batch loss: 0.039907995611429214\n",
            "epoch: 6 batch: 16 current batch loss: 0.044633593410253525\n",
            "epoch: 6 batch: 17 current batch loss: 0.041884880512952805\n",
            "epoch: 6 batch: 18 current batch loss: 0.04857715964317322\n",
            "epoch: 6 batch: 19 current batch loss: 0.04313860833644867\n",
            "epoch: 6 batch: 20 current batch loss: 0.044291067868471146\n",
            "epoch: 6 batch: 21 current batch loss: 0.05002709478139877\n",
            "epoch: 6 batch: 22 current batch loss: 0.047824304550886154\n",
            "epoch: 6 batch: 23 current batch loss: 0.05296337604522705\n",
            "epoch: 6 batch: 24 current batch loss: 0.03694712370634079\n",
            "epoch: 6 batch: 25 current batch loss: 0.04824312776327133\n",
            "epoch: 6 batch: 26 current batch loss: 0.05626577138900757\n",
            "epoch: 6 batch: 27 current batch loss: 0.03571294620633125\n",
            "epoch: 6 batch: 28 current batch loss: 0.03936731070280075\n",
            "epoch: 6 batch: 29 current batch loss: 0.04631258547306061\n",
            "epoch: 7 batch: 0 current batch loss: 0.0356803834438324\n",
            "epoch: 7 batch: 1 current batch loss: 0.040070272982120514\n",
            "epoch: 7 batch: 2 current batch loss: 0.03584146127104759\n",
            "epoch: 7 batch: 3 current batch loss: 0.045822709798812866\n",
            "epoch: 7 batch: 4 current batch loss: 0.04132453352212906\n",
            "epoch: 7 batch: 5 current batch loss: 0.031801652163267136\n",
            "epoch: 7 batch: 6 current batch loss: 0.03440817818045616\n",
            "epoch: 7 batch: 7 current batch loss: 0.03693949431180954\n",
            "epoch: 7 batch: 8 current batch loss: 0.03349948674440384\n",
            "epoch: 7 batch: 9 current batch loss: 0.034912001341581345\n",
            "epoch: 7 batch: 10 current batch loss: 0.027273476123809814\n",
            "epoch: 7 batch: 11 current batch loss: 0.031480226665735245\n",
            "epoch: 7 batch: 12 current batch loss: 0.03750988095998764\n",
            "epoch: 7 batch: 13 current batch loss: 0.032368388026952744\n",
            "epoch: 7 batch: 14 current batch loss: 0.03602464124560356\n",
            "epoch: 7 batch: 15 current batch loss: 0.040721967816352844\n",
            "epoch: 7 batch: 16 current batch loss: 0.042903732508420944\n",
            "epoch: 7 batch: 17 current batch loss: 0.04168223962187767\n",
            "epoch: 7 batch: 18 current batch loss: 0.03289644792675972\n",
            "epoch: 7 batch: 19 current batch loss: 0.041864436119794846\n",
            "epoch: 7 batch: 20 current batch loss: 0.04348744824528694\n",
            "epoch: 7 batch: 21 current batch loss: 0.031146470457315445\n",
            "epoch: 7 batch: 22 current batch loss: 0.03955129161477089\n",
            "epoch: 7 batch: 23 current batch loss: 0.035592593252658844\n",
            "epoch: 7 batch: 24 current batch loss: 0.035445667803287506\n",
            "epoch: 7 batch: 25 current batch loss: 0.04542238265275955\n",
            "epoch: 7 batch: 26 current batch loss: 0.038261253386735916\n",
            "epoch: 7 batch: 27 current batch loss: 0.031764786690473557\n",
            "epoch: 7 batch: 28 current batch loss: 0.03402474895119667\n",
            "epoch: 7 batch: 29 current batch loss: 0.02861524000763893\n"
          ]
        }
      ],
      "source": [
        "# Check if GPU is available\n",
        "\n",
        "device = torch.device(\"cuda\" if torch.cuda.is_available() else \"cpu\")\n",
        "print(f\"Working on {device}\")\n",
        "\n",
        "net = MLP().to(device)\n",
        "optimizer = torch.optim.Adam(net.parameters(), 0.001)   #initial and fixed learning rate of 0.001.\n",
        "\n",
        "net.train()    #it notifies the network layers (especially batchnorm or dropout layers, which we don't use in this example) that we are doing traning\n",
        "for epoch in range(8):  #  an epoch is a training run through the whole data set\n",
        "    for batch, data in enumerate(trainloader):\n",
        "        batch_inputs, batch_labels = data\n",
        "\n",
        "        batch_inputs = batch_inputs.to(device)  #explicitly moving the data to the target device\n",
        "        batch_labels = batch_labels.to(device)\n",
        "\n",
        "        #batch_inputs.squeeze(1)     #alternatively if not for a Flatten layer, squeeze() could be used to remove the second order of the tensor, the Channel, which is one-dimensional (this index can be equal to 0 only)\n",
        "\n",
        "        optimizer.zero_grad()\n",
        "\n",
        "        batch_outputs = net(batch_inputs)   #this line calls the forward(self, x) method of the MLP object. Please note, that the last layer of the MLP is linear\n",
        "                                            #and MLP doesn't apply\n",
        "                                            #the nonlinear activation after the last layer\n",
        "        loss = torch.nn.functional.cross_entropy(batch_outputs, batch_labels, reduction = \"mean\") #instead, nonlinear softmax is applied internally in THIS loss function\n",
        "        print(\"epoch:\", epoch, \"batch:\", batch, \"current batch loss:\", loss.item())\n",
        "        loss.backward()       #this computes gradients as we have seen in previous workshops\n",
        "        optimizer.step()      #but this line in fact updates our neural network.\n",
        "                              ####You can experiment - comment this line and check, that the loss DOE"
      ]
    },
    {
      "cell_type": "markdown",
      "id": "sTe6ViIsHUbV",
      "metadata": {
        "id": "sTe6ViIsHUbV"
      },
      "source": [
        "# Testing\n",
        "----------------------\n",
        "\n",
        "Correct the code below so it works."
      ]
    },
    {
      "cell_type": "code",
      "execution_count": 15,
      "id": "jcPek-rrHYMi",
      "metadata": {
        "id": "jcPek-rrHYMi"
      },
      "outputs": [
        {
          "name": "stdout",
          "output_type": "stream",
          "text": [
            "accuracy = 98.07%\n"
          ]
        }
      ],
      "source": [
        "good = 0\n",
        "wrong = 0\n",
        "\n",
        "net.eval()              #it notifies the network layers (especially batchnorm or dropout layers, which we don't use in this example) that we are doing evaluation\n",
        "with torch.no_grad():   #it prevents that the net learns during evalution. The gradients are not computed, so this makes it faster, too\n",
        "    for batch, data in enumerate(testloader): #batches in test are of size 1\n",
        "        datapoint, label = data\n",
        "\n",
        "        prediction = net(datapoint.to(device))                 #prediction has values representing the \"prevalence\" of the corresponding class\n",
        "        classification = torch.argmax(prediction)    #the class is the index of maximal \"prevalence\"\n",
        "\n",
        "        if classification.item() == label.item():\n",
        "            good += 1\n",
        "        else:\n",
        "            wrong += 1\n",
        "\n",
        "print(f\"accuracy = {good/(good+wrong):.2%}\")"
      ]
    },
    {
      "cell_type": "markdown",
      "id": "ZJ5c7P6ChB3e",
      "metadata": {
        "id": "ZJ5c7P6ChB3e"
      },
      "source": [
        "# **Homework Assignment - *Do Androids Dream of Electric Sheep?***\n",
        "\n",
        "-------------------------------------  \n",
        "\n",
        "\"Do Androids Dream of Electric Sheep?\" – the famous title of Philip K. Dick’s novel – raises a fascinating question: if artificial intelligence could dream, what would it see?  \n",
        "\n",
        "In this assignment, we explore a phenomenon known as **neural network dreams**, where instead of optimizing a neural network's weights, we **optimize the input itself** to achieve a desired classification outcome. Given a fully trained MNIST classification network, your goal is to manipulate its inputs so that it confidently predicts each digit from 0 to 9, starting from pure noise.  \n",
        "\n",
        "## **Tasks Description**  \n",
        "\n",
        "During this class we designed and trained a **MNIST classification neural network**, which takes a **batch of grayscale images** of size **$28 \\times 28$** as input and outputs a probability distribution over the 10 digit classes (0–9). However, instead of using real MNIST images, you will **treat the input batch itself as a set of trainable parameters** and optimize it so that the network classifies each image as a specific digit.  \n",
        "\n",
        "1. Your first task is to generate **a batch of 10 images**, where each image is\n",
        "   classified as one of the digits **0, 1, 2, ..., 9**, starting from an initial batch of ten random Gaussian noise images.  \n",
        "\n",
        "   Discuss the following question: do the generated images resemble real MNIST digits? Why or why not?  \n",
        "\n",
        "2. Discuss, how you would approach a second task of\n",
        "   generating an image that   \n",
        "   bares similarity to two or more digits simultaneously. **Implement your idea to see the results.**\n",
        "\n",
        "3. Third task: repeat the previous tasks with an additional L2 penalty on noise within the images. Experiment with adding `lambda_l2 * dreamed_input_batch.pow(2).mean()` loss term, with `lambda_l2` being the penalty cooefficient within an exponential progression, say from 0.001 to 10.0. Are the new digits recognized correctly? How does the penalty impact the digit quality? Explain.\n",
        "\n",
        "### **Optimization Process for Task 1**  \n",
        "\n",
        "1. Start with a **batch of 10 random Gaussian noise images** as the initial input and $(0, 1, 2, \\ldots, 9)$ as the expected output batch of target digits.  \n",
        "2. Define the objective: maximize the neural network's confidence for the corresponding target digit for each image in the batch.  \n",
        "3. Use **gradient descent** to modify the pixels in each image, making the network classify each one as the assigned digit.  \n",
        "4. Repeat until the network assigns suffieciently high confidence to each image’s target class.  \n",
        "\n",
        "### **Implementation Details**  \n",
        "\n",
        "- The neural network weights **must remain frozen** during optimization. You are modifying only the input images.  \n",
        "- The loss function should be the **cross-entropy loss** between the predicted probabilities and the desired class labels (plus an optional weighted L2 penalty regularizing the images in task 3).\n",
        "\n",
        "\n",
        "## **Points to Note**  \n",
        "\n",
        "1. **Visualize** the optimization process: Save images of the generated inputs at different steps and plot the classification confidence evolution over iterations.  \n",
        "3. **Document your findings** and explain the behavior you observe.  \n",
        "\n",
        "## **Task & Deliverables**  \n",
        "\n",
        "- A **Colab notebook** containing solutions for both tasks:\n",
        "  - The full implementation.\n",
        "  - Visualizations of the generated batch of images.\n",
        "  - A written explanation of your observations.\n",
        "- **Bonus:** If you create an **animation** showing the evolution of the input images during optimization, it will be considered a strong enhancement to your submission.\n",
        "  - You can generate an animation programmatically (e.g., using Matplotlib or OpenCV).\n",
        "  - Or, save image frames and use external tools to create a video.\n",
        "  - Provide a **link** to any video files in the README.\n",
        "- Upload your notebook and results to your **GitHub repository** for the course.\n",
        "- In the **README**, include a **link** to the notebook.\n",
        "- In the notebook, include **“Open in Colab”** badge so it can be launched directly.\n",
        "\n",
        "\n"
      ]
    }
  ],
  "metadata": {
    "accelerator": "GPU",
    "colab": {
      "gpuType": "T4",
      "include_colab_link": true,
      "provenance": [],
      "toc_visible": true
    },
    "kernelspec": {
      "display_name": "Python 3",
      "name": "python3"
    },
    "language_info": {
      "codemirror_mode": {
        "name": "ipython",
        "version": 3
      },
      "file_extension": ".py",
      "mimetype": "text/x-python",
      "name": "python",
      "nbconvert_exporter": "python",
      "pygments_lexer": "ipython3",
      "version": "3.11.0"
    }
  },
  "nbformat": 4,
  "nbformat_minor": 5
}
