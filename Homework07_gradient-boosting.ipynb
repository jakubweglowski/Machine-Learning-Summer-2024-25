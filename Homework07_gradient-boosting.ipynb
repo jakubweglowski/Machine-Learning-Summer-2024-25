{
 "cells": [
  {
   "cell_type": "markdown",
   "id": "e38711ef",
   "metadata": {
    "vscode": {
     "languageId": "plaintext"
    }
   },
   "source": [
    "# Binary cross-entropy loss function\n",
    "\n",
    "The binary cross-entropy function, which will be used throughout the analysis, is defined as follows:"
   ]
  },
  {
   "cell_type": "markdown",
   "id": "d9ab1ef0",
   "metadata": {},
   "source": [
    "$$\n",
    "L(y, z) = -y \\log(\\sigma(z)) - (1 - y) \\log(1 - \\sigma(z)),\n",
    "$$\n",
    "where $\\sigma(z) = \\frac{1}{1+e^{-z}}$ is called a *sigmoid* function."
   ]
  },
  {
   "cell_type": "markdown",
   "id": "b8ffcf1d",
   "metadata": {},
   "source": [
    "We will usually treat this function as a function of $z$ having $y$ as parameter:\n",
    "$$\n",
    "L(y, z) = g_y(z)\n",
    "$$\n",
    "\n",
    "We start off by calculating derivative of $g$:\n",
    "$$\n",
    "g_y'(z) = \\frac{\\partial}{\\partial z}{L(y, z)} = -y\\frac{\\sigma'(z)}{\\sigma(z)} - (1-y)\\frac{-\\sigma'(z)}{1-\\sigma(z)} = -y\\frac{\\sigma'(z)}{\\sigma(z)} + (1-y)\\frac{\\sigma'(z)}{1-\\sigma(z)}\n",
    "$$\n",
    "We have:\n",
    "$$\\frac{\\sigma'(z)}{\\sigma(z)} = \\frac{-\\frac{-e^{-z}}{(1+e^{-z})^2}}{\\frac{1}{1+e^{-z}}} = \\frac{e^{-z}}{1+e^{-z}} = \\frac{1}{1+e^z} = \\sigma(-z)\n",
    "$$\n",
    "and also:\n",
    "$$\\frac{\\sigma'(z)}{1-\\sigma(z)} = \\frac{-\\frac{-e^{-z}}{(1+e^{-z})^2}}{1-\\frac{1}{1+e^{-z}}} = \\frac{\\frac{e^{-z}}{(1+e^{-z})^2}}{\\frac{e^{-z}}{1+e^{-z}}} = \\frac{1}{1+e^{-z}} = \\sigma(z)$$\n",
    "Therefore we obtain the following result:\n",
    "$$\n",
    "g_y'(z) = \\frac{\\partial}{\\partial z}{L(y, z)} = -y\\frac{\\sigma'(z)}{\\sigma(z)} - (1-y)\\frac{-\\sigma'(z)}{1-\\sigma(z)} = -y\\sigma(-z) + (1-y)\\sigma(z) = \\sigma(z) - y(\\sigma(z) + \\sigma(-z))\n",
    "$$"
   ]
  },
  {
   "cell_type": "code",
   "execution_count": null,
   "id": "049bfd86",
   "metadata": {},
   "outputs": [],
   "source": [
    "import numpy as np\n",
    "from scipy.optimize import newton\n",
    "\n",
    "def sigma(z: np.ndarray) -> np.ndarray:\n",
    "    return 1.0/(1.0 + np.exp(-z))\n",
    "\n",
    "def L(z: np.ndarray, y: np.ndarray) -> np.ndarray:\n",
    "    return -y * np.log(sigma(z)) - (1.0 - y) * np.log(1.0 - sigma(z))"
   ]
  },
  {
   "cell_type": "code",
   "execution_count": 3,
   "id": "1f719043",
   "metadata": {},
   "outputs": [
    {
     "name": "stdout",
     "output_type": "stream",
     "text": [
      "Number of \"1\": 108, number of \"0\": 892, total number of labels: 1000.\n"
     ]
    }
   ],
   "source": [
    "np.random.seed(0)\n",
    "\n",
    "n = 1000 # number of 0-1 labels\n",
    "y = np.random.binomial(1, 0.1, n)\n",
    "m = np.sum(y)\n",
    "k = n - m\n",
    "print(f'Number of \"1\": {m}, number of \"0\": {k}, total number of labels: {m+k}.')\n",
    "f = np.random.normal(0, 1, n)"
   ]
  },
  {
   "cell_type": "markdown",
   "id": "0ceb835d",
   "metadata": {},
   "source": [
    "# Scenario A"
   ]
  },
  {
   "cell_type": "markdown",
   "id": "0c36cdac",
   "metadata": {},
   "source": [
    "In Scenario A our aim is to find:\n",
    "$$\n",
    "\\lambda^* = \\arg\\min_{\\lambda} \\sum_{i=1}^{n} L(y_i, \\lambda).\n",
    "$$\n",
    "Keeping in mind that $\\sum_{i=1}^{n}{y_i} = m$, we can write:\n",
    "$$\n",
    "\\frac{\\partial}{\\partial \\lambda}\\sum_{i=1}^{n} L(y_i, \\lambda) = \\sum_{i=1}^{n}{g_{y_i}'(\\lambda)} = \\sum_{i=1}^{n}{\\left(\\sigma(\\lambda) - y_i(\\sigma(\\lambda) + \\sigma(-\\lambda))\\right)} = n\\sigma(\\lambda) + m(\\sigma(\\lambda) + \\sigma(-\\lambda)) = k\\sigma(\\lambda) - m\\sigma(-\\lambda)\n",
    "$$\n",
    "We therefore have to find $\\lambda^*$ such that:\n",
    "$$k\\sigma(\\lambda^*) - m\\sigma(-\\lambda^*) = 0$$\n",
    "$$k\\sigma(\\lambda^*) = m\\sigma(-\\lambda^*)$$\n",
    "$$\\frac{\\sigma(\\lambda^*)}{\\sigma(-\\lambda^*)} = \\frac{m}{k}$$\n",
    "$$\\frac{\\frac{1}{1 + e^{-\\lambda^*}}}{\\frac{1}{1 + e^{\\lambda^*}}} = \\frac{m}{k}$$\n",
    "$$\\frac{1 + e^{\\lambda^*}}{1 + e^{-\\lambda^*}} = \\frac{m}{k}$$\n",
    "$$\\frac{e^{\\lambda^*} + e^{2\\lambda^*}}{1 + e^{\\lambda^*}} = \\frac{m}{k}$$\n",
    "Setting $u = e^{\\lambda^*}$, we obtain a quadratic equation:\n",
    "$$u^2 + u\\left(1-\\frac{m}{k}\\right) - \\frac{m}{k} = 0$$\n",
    "Which always has one root $u=-1$ (not allowed because of the substitution), but typically has two roots (provided that $\\Delta > 0$). The second root is:\n",
    "$$u^* = \\frac{-\\left(1-\\frac{m}{k}\\right) + \\sqrt{\\left(1-\\frac{m}{k}\\right)^2 + 4\\frac{m}{k}}}{2} = \\frac{-\\left(1-\\frac{m}{k}\\right) + \\sqrt{\\left(1+\\frac{m}{k}\\right)^2}}{2} = \\frac{-1 + \\frac{m}{k} + 1 + \\frac{m}{k}}{2} = \\frac{m}{k}$$\n",
    "Therefore we can write:\n",
    "$$\\lambda^* = \\ln{\\left(\\frac{m}{k}\\right)}$$\n",
    "And this is the value that minimises binary cross-entropy loss in Scenario A. We can see that this is just the logarithm of ratio of \"1\" labels to \"0\" labels."
   ]
  },
  {
   "cell_type": "markdown",
   "id": "cea7317e",
   "metadata": {},
   "source": [
    "To make sure that the above calculations are correct, we calculate the optimal $\\lambda$ in three different ways. First, we use the equation which uses *sigmoid* function along with Newton's method for root finding:"
   ]
  },
  {
   "cell_type": "code",
   "execution_count": null,
   "id": "31821c27",
   "metadata": {},
   "outputs": [
    {
     "data": {
      "text/plain": [
       "-2.1113349054557897"
      ]
     },
     "execution_count": 4,
     "metadata": {},
     "output_type": "execute_result"
    }
   ],
   "source": [
    "newton(lambda x: k*sigma(x) - m*sigma(-x), x0 = 0.0) # -2.1113349054557897"
   ]
  },
  {
   "cell_type": "markdown",
   "id": "02a1f883",
   "metadata": {},
   "source": [
    "For the second method, we define the quadratic function derived above, calculate it's root and then take the logarithm:"
   ]
  },
  {
   "cell_type": "code",
   "execution_count": null,
   "id": "1a38e49c",
   "metadata": {},
   "outputs": [
    {
     "data": {
      "text/plain": [
       "-2.1113349054557897"
      ]
     },
     "execution_count": 23,
     "metadata": {},
     "output_type": "execute_result"
    }
   ],
   "source": [
    "def quadratic_variant(x, m, k):\n",
    "    return x**2 + (1 - m/k)*x - m/k\n",
    "\n",
    "np.log(newton(lambda x: quadratic_variant(x, m, k), x0 = 0.0)) # -2.1113349054557897"
   ]
  },
  {
   "cell_type": "markdown",
   "id": "3a3f771a",
   "metadata": {},
   "source": [
    "Finally, we define explicitly the roots of the obtained quadratic function, compute them and take logarithm if the second one is positive:"
   ]
  },
  {
   "cell_type": "code",
   "execution_count": null,
   "id": "6b4dd00a",
   "metadata": {},
   "outputs": [
    {
     "data": {
      "text/plain": [
       "-2.1113349054557897"
      ]
     },
     "execution_count": 22,
     "metadata": {},
     "output_type": "execute_result"
    }
   ],
   "source": [
    "def roots(m, k):    \n",
    "    return -1.0, m/k\n",
    "\n",
    "np.log(roots(m, k)[1]) # -2.1113349054557897"
   ]
  },
  {
   "cell_type": "markdown",
   "id": "0ac7b6f0",
   "metadata": {},
   "source": [
    "As we can see, the results are the same in all three cases. We can now plot the loss\n",
    "$$\\sum_{i=1}^{n} L(y_i, \\lambda)$$\n",
    "as a function of $\\lambda$:"
   ]
  },
  {
   "cell_type": "code",
   "execution_count": 44,
   "id": "9ffc7d9d",
   "metadata": {},
   "outputs": [
    {
     "data": {
      "text/plain": [
       "<AxesSubplot: >"
      ]
     },
     "execution_count": 44,
     "metadata": {},
     "output_type": "execute_result"
    },
    {
     "data": {
      "image/png": "[encoded data removed]",
      "text/plain": [
       "<Figure size 640x480 with 1 Axes>"
      ]
     },
     "metadata": {},
     "output_type": "display_data"
    }
   ],
   "source": [
    "import matplotlib.pyplot as plt\n",
    "import pandas as pd\n",
    "\n",
    "lambdas = np.linspace(-10, 5, 200)\n",
    "ser_plot = pd.Series()\n",
    "for l in lambdas:\n",
    "    ser_plot.loc[l] = np.sum(L(l, y))\n",
    "    \n",
    "ser_plot.plot()"
   ]
  },
  {
   "cell_type": "markdown",
   "id": "c6823221",
   "metadata": {},
   "source": [
    "We can see a nicely shaped, convex function - easy to minimize."
   ]
  },
  {
   "cell_type": "markdown",
   "id": "58a84307",
   "metadata": {},
   "source": [
    "# Scenario B"
   ]
  },
  {
   "cell_type": "markdown",
   "id": "3db2d012",
   "metadata": {},
   "source": [
    "Now we want to compute:\n",
    "$$\n",
    "\\lambda^* = \\arg\\min_{\\lambda} \\sum_{i=1}^{n} L(y_i, f_i + \\lambda).\n",
    "$$\n",
    "where $f_i = f(x_i)$ are predictions from the previous step. We can try to compute the optimal $\\lambda$ in the same manner as before:\n",
    "$$\\frac{\\partial}{\\partial \\lambda}\\sum_{i=1}^{n} L(y_i, f_i + \\lambda) = \\sum_{i=1}^{n}{g_{y_i}'(f_i + \\lambda)} = \\sum_{i=1}^{n}{\\left(\\sigma(f_i + \\lambda) - y_i(\\sigma(f_i + \\lambda) + \\sigma(-f_i - \\lambda))\\right)} = 0$$\n",
    "And this implicit equation cannot be solved in general because the sigmoid function is non-linear, non-additive and $f_i$ are unknown. We can plot the loss landscape:"
   ]
  },
  {
   "cell_type": "code",
   "execution_count": 64,
   "id": "3c3ee736",
   "metadata": {},
   "outputs": [
    {
     "data": {
      "text/plain": [
       "<AxesSubplot: >"
      ]
     },
     "execution_count": 64,
     "metadata": {},
     "output_type": "execute_result"
    },
    {
     "data": {
      "image/png": "[encoded data removed]",
      "text/plain": [
       "<Figure size 640x480 with 1 Axes>"
      ]
     },
     "metadata": {},
     "output_type": "display_data"
    }
   ],
   "source": [
    "import pandas as pd\n",
    "from warnings import filterwarnings\n",
    "filterwarnings('ignore')\n",
    "\n",
    "lambdas = np.linspace(-100, 100, 2000)\n",
    "ser_plot = pd.Series()\n",
    "for l in lambdas:\n",
    "    ser_plot.loc[l] = np.sum(L(f + l, y))\n",
    "    \n",
    "ser_plot.plot()"
   ]
  },
  {
   "cell_type": "markdown",
   "id": "b8621310",
   "metadata": {},
   "source": [
    "We can again see a nice, convex function - which is very strange and perhaps means that we've made a mistake somewhere. Our intuition here would be that loss landscape is nonlinear, complex and therefore the roots are hard to find.\n",
    "\n",
    "On the other hand, the irreducible complexity of the derivative equation for finding the optimal $\\lambda$ might indeed be the only problem here - it's possible that finding root of such an equation is hard even though the loss landscape is fairly simple."
   ]
  }
 ],
 "metadata": {
  "kernelspec": {
   "display_name": "Python 3",
   "language": "python",
   "name": "python3"
  },
  "language_info": {
   "codemirror_mode": {
    "name": "ipython",
    "version": 3
   },
   "file_extension": ".py",
   "mimetype": "text/x-python",
   "name": "python",
   "nbconvert_exporter": "python",
   "pygments_lexer": "ipython3",
   "version": "3.11.0"
  }
 },
 "nbformat": 4,
 "nbformat_minor": 5
}
