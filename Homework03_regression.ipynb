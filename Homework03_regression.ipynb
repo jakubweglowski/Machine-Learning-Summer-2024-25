{
 "cells": [
  {
   "cell_type": "markdown",
   "metadata": {},
   "source": [
    "# Dataset and imports"
   ]
  },
  {
   "cell_type": "markdown",
   "metadata": {},
   "source": [
    "We choose the built-in breast cancer dataset (binary classification)."
   ]
  },
  {
   "cell_type": "code",
   "execution_count": 1,
   "metadata": {},
   "outputs": [],
   "source": [
    "import numpy as np, pandas as pd, matplotlib.pyplot as plt\n",
    "from sklearn.datasets import load_breast_cancer\n",
    "from sklearn.model_selection import train_test_split\n",
    "from sklearn.linear_model import LogisticRegression\n",
    "\n",
    "from sklearn.metrics import roc_curve, auc, accuracy_score, precision_score, recall_score, f1_score, confusion_matrix\n",
    "\n",
    "from warnings import filterwarnings\n",
    "filterwarnings(\"ignore\")"
   ]
  },
  {
   "cell_type": "code",
   "execution_count": 2,
   "metadata": {},
   "outputs": [
    {
     "name": "stdout",
     "output_type": "stream",
     "text": [
      "Training set: ((318, 30), (318,))\n",
      "Validation set: ((137, 30), (137,))\n",
      "Test set: ((114, 30), (114,))\n"
     ]
    }
   ],
   "source": [
    "data = load_breast_cancer()\n",
    "X, y = data.data, data.target\n",
    "\n",
    "Xtrain, Xtest, ytrain, ytest = train_test_split(X, y, test_size=0.2, random_state=0)\n",
    "Xtrain, Xvalid, ytrain, yvalid = train_test_split(Xtrain, ytrain, test_size=0.3, random_state=0)\n",
    "\n",
    "print(f\"Training set: {Xtrain.shape, ytrain.shape}\")\n",
    "print(f\"Validation set: {Xvalid.shape, yvalid.shape}\")\n",
    "print(f\"Test set: {Xtest.shape, ytest.shape}\")"
   ]
  },
  {
   "cell_type": "markdown",
   "metadata": {},
   "source": [
    "# Logistic Regression\n",
    "We now perform LR on this dataset and extract predicted probabilities in order to analyze the influence of established threshold. After that, we calculate the AUC metric (area under ROC curve - the bigger, the better, max=1.0). We start by performing standard LR on the training set and then we use the model to predict the values on the validation set."
   ]
  },
  {
   "cell_type": "code",
   "execution_count": 3,
   "metadata": {},
   "outputs": [
    {
     "name": "stdout",
     "output_type": "stream",
     "text": [
      "Validation set performance (threshold = 0.5)\n",
      "Accuracy: 0.9416\n",
      "Precision: 0.9753\n",
      "Recall: 0.9294\n",
      "F1 score: 0.9518\n",
      "Confusion matrix:\n",
      "[[50  2]\n",
      " [ 6 79]]\n"
     ]
    }
   ],
   "source": [
    "lr_model = LogisticRegression(penalty=None, max_iter=1000).fit(Xtrain, ytrain)\n",
    "\n",
    "ypred = lr_model.predict(Xvalid)\n",
    "fpr, tpr, thresholds = roc_curve(yvalid, ypred)\n",
    "roc_auc = auc(fpr, tpr)\n",
    "\n",
    "accuracy = accuracy_score(yvalid, ypred)\n",
    "precision = precision_score(yvalid, ypred)\n",
    "recall = recall_score(yvalid, ypred)\n",
    "f1 = f1_score(yvalid, ypred)\n",
    "conf_matrix = confusion_matrix(yvalid, ypred)\n",
    "\n",
    "print(\"Validation set performance (threshold = 0.5)\")\n",
    "print(f\"Accuracy: {accuracy:.4f}\")\n",
    "print(f\"Precision: {precision:.4f}\")\n",
    "print(f\"Recall: {recall:.4f}\")\n",
    "print(f\"F1 score: {f1:.4f}\")\n",
    "print(f\"Confusion matrix:\\n{conf_matrix}\")\n"
   ]
  },
  {
   "cell_type": "markdown",
   "metadata": {},
   "source": [
    "Now let's experiment with a couple of different thresholds:"
   ]
  },
  {
   "cell_type": "code",
   "execution_count": 4,
   "metadata": {},
   "outputs": [
    {
     "data": {
      "text/html": [
       "<div>\n",
       "<style scoped>\n",
       "    .dataframe tbody tr th:only-of-type {\n",
       "        vertical-align: middle;\n",
       "    }\n",
       "\n",
       "    .dataframe tbody tr th {\n",
       "        vertical-align: top;\n",
       "    }\n",
       "\n",
       "    .dataframe thead th {\n",
       "        text-align: right;\n",
       "    }\n",
       "</style>\n",
       "<table border=\"1\" class=\"dataframe\">\n",
       "  <thead>\n",
       "    <tr style=\"text-align: right;\">\n",
       "      <th>Threshold</th>\n",
       "      <th>0.001</th>\n",
       "      <th>0.010</th>\n",
       "      <th>0.050</th>\n",
       "      <th>0.150</th>\n",
       "      <th>0.250</th>\n",
       "      <th>0.500</th>\n",
       "      <th>0.750</th>\n",
       "      <th>0.850</th>\n",
       "      <th>0.950</th>\n",
       "      <th>0.990</th>\n",
       "      <th>0.999</th>\n",
       "    </tr>\n",
       "    <tr>\n",
       "      <th>Metric</th>\n",
       "      <th></th>\n",
       "      <th></th>\n",
       "      <th></th>\n",
       "      <th></th>\n",
       "      <th></th>\n",
       "      <th></th>\n",
       "      <th></th>\n",
       "      <th></th>\n",
       "      <th></th>\n",
       "      <th></th>\n",
       "      <th></th>\n",
       "    </tr>\n",
       "  </thead>\n",
       "  <tbody>\n",
       "    <tr>\n",
       "      <th>Accuracy</th>\n",
       "      <td>0.934307</td>\n",
       "      <td>0.948905</td>\n",
       "      <td>0.941606</td>\n",
       "      <td>0.941606</td>\n",
       "      <td>0.941606</td>\n",
       "      <td>0.941606</td>\n",
       "      <td>0.912409</td>\n",
       "      <td>0.897810</td>\n",
       "      <td>0.897810</td>\n",
       "      <td>0.846715</td>\n",
       "      <td>0.810219</td>\n",
       "    </tr>\n",
       "    <tr>\n",
       "      <th>Precision</th>\n",
       "      <td>0.931818</td>\n",
       "      <td>0.953488</td>\n",
       "      <td>0.952941</td>\n",
       "      <td>0.963855</td>\n",
       "      <td>0.975309</td>\n",
       "      <td>0.975309</td>\n",
       "      <td>0.974026</td>\n",
       "      <td>0.973333</td>\n",
       "      <td>1.000000</td>\n",
       "      <td>1.000000</td>\n",
       "      <td>1.000000</td>\n",
       "    </tr>\n",
       "    <tr>\n",
       "      <th>Recall</th>\n",
       "      <td>0.964706</td>\n",
       "      <td>0.964706</td>\n",
       "      <td>0.952941</td>\n",
       "      <td>0.941176</td>\n",
       "      <td>0.929412</td>\n",
       "      <td>0.929412</td>\n",
       "      <td>0.882353</td>\n",
       "      <td>0.858824</td>\n",
       "      <td>0.835294</td>\n",
       "      <td>0.752941</td>\n",
       "      <td>0.694118</td>\n",
       "    </tr>\n",
       "    <tr>\n",
       "      <th>F1-score</th>\n",
       "      <td>0.947977</td>\n",
       "      <td>0.959064</td>\n",
       "      <td>0.952941</td>\n",
       "      <td>0.952381</td>\n",
       "      <td>0.951807</td>\n",
       "      <td>0.951807</td>\n",
       "      <td>0.925926</td>\n",
       "      <td>0.912500</td>\n",
       "      <td>0.910256</td>\n",
       "      <td>0.859060</td>\n",
       "      <td>0.819444</td>\n",
       "    </tr>\n",
       "  </tbody>\n",
       "</table>\n",
       "</div>"
      ],
      "text/plain": [
       "Threshold     0.001     0.010     0.050     0.150     0.250     0.500  \\\n",
       "Metric                                                                  \n",
       "Accuracy   0.934307  0.948905  0.941606  0.941606  0.941606  0.941606   \n",
       "Precision  0.931818  0.953488  0.952941  0.963855  0.975309  0.975309   \n",
       "Recall     0.964706  0.964706  0.952941  0.941176  0.929412  0.929412   \n",
       "F1-score   0.947977  0.959064  0.952941  0.952381  0.951807  0.951807   \n",
       "\n",
       "Threshold     0.750     0.850     0.950     0.990     0.999  \n",
       "Metric                                                       \n",
       "Accuracy   0.912409  0.897810  0.897810  0.846715  0.810219  \n",
       "Precision  0.974026  0.973333  1.000000  1.000000  1.000000  \n",
       "Recall     0.882353  0.858824  0.835294  0.752941  0.694118  \n",
       "F1-score   0.925926  0.912500  0.910256  0.859060  0.819444  "
      ]
     },
     "execution_count": 4,
     "metadata": {},
     "output_type": "execute_result"
    }
   ],
   "source": [
    "scores_df = pd.DataFrame()\n",
    "lr_model = LogisticRegression(penalty=None, max_iter=1000).fit(Xtrain, ytrain)\n",
    "thrs = [0.001, 0.01, 0.05, 0.15, 0.25, 0.5, 0.75, 0.85, 0.95, 0.99, 0.999]\n",
    "for threshold in thrs:\n",
    "    ypred = np.where(lr_model.predict_proba(Xvalid)[:, 1] > threshold, 1., 0.)\n",
    "\n",
    "    accuracy = accuracy_score(yvalid, ypred)\n",
    "    precision = precision_score(yvalid, ypred)\n",
    "    recall = recall_score(yvalid, ypred)\n",
    "    f1 = f1_score(yvalid, ypred)\n",
    "    conf_matrix = confusion_matrix(yvalid, ypred)\n",
    "    \n",
    "    scores_df[threshold] = {'Accuracy': accuracy, 'Precision': precision, 'Recall': recall, 'F1-score': f1}\n",
    "    scores_df.columns.name = 'Threshold'\n",
    "    scores_df.index.name = 'Metric'\n",
    "\n",
    "scores_df"
   ]
  },
  {
   "cell_type": "markdown",
   "metadata": {},
   "source": [
    "We can observe that varying the threshold changes the performance of the model.\n",
    "\n",
    "Given the False Positive Rate and True Positive Rate (building blocks of ROC curve) we can now extract the best possible threshold. We want to simultaneously minimize FPR and maximize TPR and in order to do so, we have to use some heuristics.\n",
    "\n",
    "Our choice here would be to simply minimize the (euclidean) distance od ROC curve point from $(FPR, TPR) = (0, 1)$ (top-left corner)."
   ]
  },
  {
   "cell_type": "code",
   "execution_count": 11,
   "metadata": {},
   "outputs": [
    {
     "name": "stdout",
     "output_type": "stream",
     "text": [
      "AUC score: 0.9887\n",
      "Best FPR: 0.0577\n",
      "Best TPR: 0.9529\n",
      "Best threshold: 0.1470\n"
     ]
    }
   ],
   "source": [
    "lr_model = LogisticRegression(penalty=None, max_iter=1000).fit(Xtrain, ytrain)\n",
    "\n",
    "ypred = lr_model.predict_proba(Xvalid)[:, 1]\n",
    "fpr, tpr, thresholds = roc_curve(yvalid, ypred)\n",
    "roc_auc = auc(fpr, tpr)\n",
    "\n",
    "roc_df = pd.DataFrame({'fpr': fpr, 'tpr': tpr, 'thresholds': thresholds})\n",
    "roc_df['dist_to_(0, 1)'] = np.sqrt((roc_df['fpr'] - 0.0)**2 + (roc_df['tpr'] - 1.0)**2)\n",
    "roc_df = roc_df.sort_values('dist_to_(0, 1)')\n",
    "best_fpr_tpr = roc_df.iloc[0, [0, 1]].values\n",
    "best_threshold = roc_df.iloc[0, 2]\n",
    "\n",
    "print(f\"AUC score: {roc_auc:.4f}\")\n",
    "print(f\"Best FPR: {best_fpr_tpr[0]:.4f}\")\n",
    "print(f\"Best TPR: {best_fpr_tpr[1]:.4f}\")\n",
    "print(f\"Best threshold: {best_threshold:.4f}\")"
   ]
  },
  {
   "cell_type": "markdown",
   "metadata": {},
   "source": [
    "We visualize the described method on the ROC plot below. The ROC curve is the threshold-parametrized $(FPR(thr), TPR(thr))$ curve: for every possible threshold level $thr\\in[0, 1]$ we estimate the model, extract the aforementioned metrics and plot them against one another."
   ]
  },
  {
   "cell_type": "code",
   "execution_count": 12,
   "metadata": {},
   "outputs": [
    {
     "data": {
      "image/png": "[encoded data removed]",
      "text/plain": [
       "<Figure size 600x600 with 1 Axes>"
      ]
     },
     "metadata": {},
     "output_type": "display_data"
    }
   ],
   "source": [
    "fig, ax = plt.subplots(figsize=(6, 6))\n",
    "ax.plot(fpr, tpr, label=f'ROC curve (area = {roc_auc:.2f})')\n",
    "ax.plot([0, 1], [0, 1], 'k--')\n",
    "ax.grid(visible=True)\n",
    "ax.set_xlabel('False Positive Rate')\n",
    "ax.set_ylabel('True Positive Rate')\n",
    "ax.set_title('Receiver Operating Characteristic')\n",
    "\n",
    "ax.scatter(0.0, 1.0, c='red', s=20, zorder=10, label='(0, 1)')\n",
    "ax.scatter(best_fpr_tpr[0], best_fpr_tpr[1], c='green', s=20, zorder=10, label='Best Threshold')\n",
    "\n",
    "ax.legend()\n",
    "plt.show()"
   ]
  },
  {
   "cell_type": "markdown",
   "metadata": {},
   "source": [
    "We now apply the best threshold to test set and compute the metrics:"
   ]
  },
  {
   "cell_type": "code",
   "execution_count": 13,
   "metadata": {},
   "outputs": [],
   "source": [
    "lr_model = LogisticRegression(penalty=None, max_iter=1000).fit(Xtest, ytest)\n",
    "ypred = np.where(lr_model.predict_proba(Xtest)[:, 1] > best_threshold, 1, 0)\n",
    "\n",
    "accuracy = accuracy_score(ytest, ypred)\n",
    "precision = precision_score(ytest, ypred)\n",
    "recall = recall_score(ytest, ypred)\n",
    "f1 = f1_score(ytest, ypred)\n",
    "conf_matrix = confusion_matrix(ytest, ypred)"
   ]
  },
  {
   "cell_type": "markdown",
   "metadata": {},
   "source": [
    "The model performs perfectly on the test set!"
   ]
  },
  {
   "cell_type": "code",
   "execution_count": 24,
   "metadata": {},
   "outputs": [
    {
     "name": "stdout",
     "output_type": "stream",
     "text": [
      "Accuracy: 0.9841\n",
      "Precision: 1.0000\n",
      "Recall: 0.9696\n",
      "F1 score: 0.9845\n",
      "Confusion matrix:\n",
      "[[210   0]\n",
      " [  7 223]]\n"
     ]
    }
   ],
   "source": [
    "print(f\"Accuracy: {accuracy:.4f}\")\n",
    "print(f\"Precision: {precision:.4f}\")\n",
    "print(f\"Recall: {recall:.4f}\")\n",
    "print(f\"F1 score: {f1:.4f}\")\n",
    "print(f\"Confusion matrix:\\n{conf_matrix}\")"
   ]
  },
  {
   "cell_type": "markdown",
   "metadata": {},
   "source": [
    "# New dataset\n",
    "\n",
    "We actually suspect that there is something wrong with this dataset - the model performs \"too well\"...\n",
    "\n",
    "Let's change the dataset:"
   ]
  },
  {
   "cell_type": "code",
   "execution_count": 15,
   "metadata": {},
   "outputs": [],
   "source": [
    "from sklearn.datasets import fetch_lfw_pairs"
   ]
  },
  {
   "cell_type": "code",
   "execution_count": 42,
   "metadata": {},
   "outputs": [
    {
     "name": "stdout",
     "output_type": "stream",
     "text": [
      "Training set: ((1232, 200), (1232,))\n",
      "Validation set: ((528, 200), (528,))\n",
      "Test set: ((440, 200), (440,))\n"
     ]
    }
   ],
   "source": [
    "data = fetch_lfw_pairs(subset='train')\n",
    "X, y = data.data[:, :200], data.target # first 200 predictors\n",
    "\n",
    "Xtrain, Xtest, ytrain, ytest = train_test_split(X, y, test_size=0.2, random_state=0)\n",
    "Xtrain, Xvalid, ytrain, yvalid = train_test_split(Xtrain, ytrain, test_size=0.3, random_state=0)\n",
    "\n",
    "print(f\"Training set: {Xtrain.shape, ytrain.shape}\")\n",
    "print(f\"Validation set: {Xvalid.shape, yvalid.shape}\")\n",
    "print(f\"Test set: {Xtest.shape, ytest.shape}\")"
   ]
  },
  {
   "cell_type": "markdown",
   "metadata": {},
   "source": [
    "We again show the dataframe with metrics given thresholds:"
   ]
  },
  {
   "cell_type": "code",
   "execution_count": 43,
   "metadata": {},
   "outputs": [
    {
     "data": {
      "text/html": [
       "<div>\n",
       "<style scoped>\n",
       "    .dataframe tbody tr th:only-of-type {\n",
       "        vertical-align: middle;\n",
       "    }\n",
       "\n",
       "    .dataframe tbody tr th {\n",
       "        vertical-align: top;\n",
       "    }\n",
       "\n",
       "    .dataframe thead th {\n",
       "        text-align: right;\n",
       "    }\n",
       "</style>\n",
       "<table border=\"1\" class=\"dataframe\">\n",
       "  <thead>\n",
       "    <tr style=\"text-align: right;\">\n",
       "      <th>Threshold</th>\n",
       "      <th>0.001</th>\n",
       "      <th>0.010</th>\n",
       "      <th>0.050</th>\n",
       "      <th>0.150</th>\n",
       "      <th>0.250</th>\n",
       "      <th>0.500</th>\n",
       "      <th>0.750</th>\n",
       "      <th>0.850</th>\n",
       "      <th>0.950</th>\n",
       "      <th>0.990</th>\n",
       "      <th>0.999</th>\n",
       "    </tr>\n",
       "    <tr>\n",
       "      <th>Metric</th>\n",
       "      <th></th>\n",
       "      <th></th>\n",
       "      <th></th>\n",
       "      <th></th>\n",
       "      <th></th>\n",
       "      <th></th>\n",
       "      <th></th>\n",
       "      <th></th>\n",
       "      <th></th>\n",
       "      <th></th>\n",
       "      <th></th>\n",
       "    </tr>\n",
       "  </thead>\n",
       "  <tbody>\n",
       "    <tr>\n",
       "      <th>Accuracy</th>\n",
       "      <td>0.481061</td>\n",
       "      <td>0.486742</td>\n",
       "      <td>0.486742</td>\n",
       "      <td>0.509470</td>\n",
       "      <td>0.501894</td>\n",
       "      <td>0.539773</td>\n",
       "      <td>0.511364</td>\n",
       "      <td>0.524621</td>\n",
       "      <td>0.522727</td>\n",
       "      <td>0.522727</td>\n",
       "      <td>0.520833</td>\n",
       "    </tr>\n",
       "    <tr>\n",
       "      <th>Precision</th>\n",
       "      <td>0.480076</td>\n",
       "      <td>0.482824</td>\n",
       "      <td>0.482625</td>\n",
       "      <td>0.493927</td>\n",
       "      <td>0.489177</td>\n",
       "      <td>0.517241</td>\n",
       "      <td>0.472527</td>\n",
       "      <td>0.520000</td>\n",
       "      <td>0.571429</td>\n",
       "      <td>1.000000</td>\n",
       "      <td>0.000000</td>\n",
       "    </tr>\n",
       "    <tr>\n",
       "      <th>Recall</th>\n",
       "      <td>1.000000</td>\n",
       "      <td>1.000000</td>\n",
       "      <td>0.988142</td>\n",
       "      <td>0.964427</td>\n",
       "      <td>0.893281</td>\n",
       "      <td>0.592885</td>\n",
       "      <td>0.169960</td>\n",
       "      <td>0.102767</td>\n",
       "      <td>0.015810</td>\n",
       "      <td>0.003953</td>\n",
       "      <td>0.000000</td>\n",
       "    </tr>\n",
       "    <tr>\n",
       "      <th>F1-score</th>\n",
       "      <td>0.648718</td>\n",
       "      <td>0.651223</td>\n",
       "      <td>0.648508</td>\n",
       "      <td>0.653280</td>\n",
       "      <td>0.632168</td>\n",
       "      <td>0.552486</td>\n",
       "      <td>0.250000</td>\n",
       "      <td>0.171617</td>\n",
       "      <td>0.030769</td>\n",
       "      <td>0.007874</td>\n",
       "      <td>0.000000</td>\n",
       "    </tr>\n",
       "  </tbody>\n",
       "</table>\n",
       "</div>"
      ],
      "text/plain": [
       "Threshold     0.001     0.010     0.050     0.150     0.250     0.500  \\\n",
       "Metric                                                                  \n",
       "Accuracy   0.481061  0.486742  0.486742  0.509470  0.501894  0.539773   \n",
       "Precision  0.480076  0.482824  0.482625  0.493927  0.489177  0.517241   \n",
       "Recall     1.000000  1.000000  0.988142  0.964427  0.893281  0.592885   \n",
       "F1-score   0.648718  0.651223  0.648508  0.653280  0.632168  0.552486   \n",
       "\n",
       "Threshold     0.750     0.850     0.950     0.990     0.999  \n",
       "Metric                                                       \n",
       "Accuracy   0.511364  0.524621  0.522727  0.522727  0.520833  \n",
       "Precision  0.472527  0.520000  0.571429  1.000000  0.000000  \n",
       "Recall     0.169960  0.102767  0.015810  0.003953  0.000000  \n",
       "F1-score   0.250000  0.171617  0.030769  0.007874  0.000000  "
      ]
     },
     "execution_count": 43,
     "metadata": {},
     "output_type": "execute_result"
    }
   ],
   "source": [
    "scores_df = pd.DataFrame()\n",
    "lr_model = LogisticRegression(penalty=None, max_iter=1000).fit(Xtrain, ytrain)\n",
    "thrs = [0.001, 0.01, 0.05, 0.15, 0.25, 0.5, 0.75, 0.85, 0.95, 0.99, 0.999]\n",
    "for threshold in thrs:\n",
    "    ypred = np.where(lr_model.predict_proba(Xvalid)[:, 1] > threshold, 1., 0.)\n",
    "\n",
    "    accuracy = accuracy_score(yvalid, ypred)\n",
    "    precision = precision_score(yvalid, ypred)\n",
    "    recall = recall_score(yvalid, ypred)\n",
    "    f1 = f1_score(yvalid, ypred)\n",
    "    conf_matrix = confusion_matrix(yvalid, ypred)\n",
    "    \n",
    "    scores_df[threshold] = {'Accuracy': accuracy, 'Precision': precision, 'Recall': recall, 'F1-score': f1}\n",
    "    scores_df.columns.name = 'Threshold'\n",
    "    scores_df.index.name = 'Metric'\n",
    "\n",
    "scores_df"
   ]
  },
  {
   "cell_type": "markdown",
   "metadata": {},
   "source": [
    "Calculate things to get best threshold and then plot the ROC curve:"
   ]
  },
  {
   "cell_type": "code",
   "execution_count": 44,
   "metadata": {},
   "outputs": [
    {
     "name": "stdout",
     "output_type": "stream",
     "text": [
      "AUC score: 0.5426\n",
      "Best FPR: 0.4327\n",
      "Best TPR: 0.5455\n",
      "Best threshold: 0.538826\n"
     ]
    },
    {
     "data": {
      "image/png": "[encoded data removed]",
      "text/plain": [
       "<Figure size 600x600 with 1 Axes>"
      ]
     },
     "metadata": {},
     "output_type": "display_data"
    }
   ],
   "source": [
    "ypred = lr_model.predict_proba(Xvalid)[:, 1]\n",
    "fpr, tpr, thresholds = roc_curve(yvalid, ypred)\n",
    "roc_auc = auc(fpr, tpr)\n",
    "\n",
    "roc_df = pd.DataFrame({'fpr': fpr, 'tpr': tpr, 'thresholds': thresholds})\n",
    "roc_df['dist_to_(0, 1)'] = np.sqrt((roc_df['fpr'] - 0.0)**2 + (roc_df['tpr'] - 1.0)**2)\n",
    "roc_df = roc_df.sort_values('dist_to_(0, 1)')\n",
    "best_fpr_tpr = roc_df.iloc[0, [0, 1]].values\n",
    "best_threshold = roc_df.iloc[0, 2]\n",
    "\n",
    "print(f\"AUC score: {roc_auc:.4f}\")\n",
    "print(f\"Best FPR: {best_fpr_tpr[0]:.4f}\")\n",
    "print(f\"Best TPR: {best_fpr_tpr[1]:.4f}\")\n",
    "print(f\"Best threshold: {best_threshold:.6f}\")\n",
    "\n",
    "fig, ax = plt.subplots(figsize=(6, 6))\n",
    "ax.plot(fpr, tpr, label=f'ROC curve (area = {roc_auc:.2f})')\n",
    "ax.plot([0, 1], [0, 1], 'k--')\n",
    "ax.grid(visible=True)\n",
    "ax.set_xlabel('False Positive Rate')\n",
    "ax.set_ylabel('True Positive Rate')\n",
    "ax.set_title('Receiver Operating Characteristic')\n",
    "\n",
    "ax.scatter(0.0, 1.0, c='red', s=20, zorder=10, label='(0, 1)')\n",
    "ax.scatter(best_fpr_tpr[0], best_fpr_tpr[1], c='green', s=20, zorder=10, label='Best Threshold')\n",
    "\n",
    "ax.legend()\n",
    "plt.show()"
   ]
  },
  {
   "cell_type": "code",
   "execution_count": 45,
   "metadata": {},
   "outputs": [
    {
     "name": "stdout",
     "output_type": "stream",
     "text": [
      "Accuracy: 0.8205\n",
      "Precision: 0.8386\n",
      "Recall: 0.8130\n",
      "F1 score: 0.8256\n",
      "Confusion matrix:\n",
      "[[174  36]\n",
      " [ 43 187]]\n"
     ]
    }
   ],
   "source": [
    "lr_model = LogisticRegression(penalty=None, max_iter=1000).fit(Xtest, ytest)\n",
    "ypred = np.where(lr_model.predict_proba(Xtest)[:, 1] > best_threshold, 1, 0)\n",
    "\n",
    "accuracy = accuracy_score(ytest, ypred)\n",
    "precision = precision_score(ytest, ypred)\n",
    "recall = recall_score(ytest, ypred)\n",
    "f1 = f1_score(ytest, ypred)\n",
    "conf_matrix = confusion_matrix(ytest, ypred)\n",
    "\n",
    "print(f\"Accuracy: {accuracy:.4f}\")\n",
    "print(f\"Precision: {precision:.4f}\")\n",
    "print(f\"Recall: {recall:.4f}\")\n",
    "print(f\"F1 score: {f1:.4f}\")\n",
    "print(f\"Confusion matrix:\\n{conf_matrix}\")"
   ]
  },
  {
   "cell_type": "markdown",
   "metadata": {},
   "source": [
    "Here we see an example of situation, in which a small change in the threshold (from 0.5 to 0.54) is suggested to be made to get better performance."
   ]
  }
 ],
 "metadata": {
  "kernelspec": {
   "display_name": "Python 3",
   "language": "python",
   "name": "python3"
  },
  "language_info": {
   "codemirror_mode": {
    "name": "ipython",
    "version": 3
   },
   "file_extension": ".py",
   "mimetype": "text/x-python",
   "name": "python",
   "nbconvert_exporter": "python",
   "pygments_lexer": "ipython3",
   "version": "3.11.0"
  }
 },
 "nbformat": 4,
 "nbformat_minor": 2
}
